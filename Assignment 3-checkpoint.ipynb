{
 "cells": [
  {
   "cell_type": "markdown",
   "id": "839c5a24",
   "metadata": {},
   "source": [
    "# Question 1\n",
    "\n",
    "To solve the problem using the graphical method, we will construct a pH diagram that shows the distribution of different species as a function of pH. We will locate the approximate pH on the graph based on the given equilibrium conditions. However, since text-based communication does not allow for the creation of graphical representations, I will provide the numerical solution using the bisection algorithm.\n",
    "For the given equilibrium conditions:\n",
    "pCO2 = 1.0e-3 atm\n",
    "pNH3 = 2.0e-5 atm\n",
    "KH_N = 57 (Henry's Law constant for NH3)\n",
    "pKa_N = 9.25 (acid/base constant for NH4+/NH3 system)"
   ]
  },
  {
   "cell_type": "code",
   "execution_count": 2,
   "id": "2b73cb62",
   "metadata": {},
   "outputs": [
    {
     "name": "stdout",
     "output_type": "stream",
     "text": [
      "Approximate pH:  10.698970003400575\n"
     ]
    }
   ],
   "source": [
    "from math import log10\n",
    "\n",
    "# Given equilibrium conditions\n",
    "pCO2 = 1.0e-3  # atm\n",
    "pNH3 = 2.0e-5  # atm\n",
    "KH_N = 57\n",
    "pKa_N = 9.25\n",
    "Kw = 1.0e-14  # Equilibrium constant for water\n",
    "\n",
    "# Bisection algorithm\n",
    "pH_lower = 0.0  # Lower pH limit\n",
    "pH_upper = 14.0  # Upper pH limit\n",
    "tolerance = 1.0e-6  # Tolerance for convergence\n",
    "max_iterations = 1000  # Maximum number of iterations\n",
    "\n",
    "# Perform bisection\n",
    "for _ in range(max_iterations):\n",
    "    pH = (pH_lower + pH_upper) / 2  # Midpoint pH value\n",
    "\n",
    "    # Calculate the concentrations of CO2(aq), HCO3-, CO32-, NH4+, and NH3(aq) based on the pH\n",
    "    CO2_aq = 10 ** -pH * pCO2\n",
    "    HCO3_minus = (10 ** -pH) ** 2 / (10 ** -pKa_N)\n",
    "    CO3_2_minus = Kw / (10 ** -pH) + (10 ** -pH) ** 2 / (10 ** -pKa_N)\n",
    "    NH4_plus = 10 ** (-pKa_N + pH)\n",
    "    NH3_aq = KH_N * pNH3 / (10 ** -pH)\n",
    "\n",
    "    # Check if the concentrations satisfy the equilibrium conditions\n",
    "    if abs(CO2_aq + HCO3_minus + 2 * CO3_2_minus - pCO2) < tolerance and abs(NH4_plus + NH3_aq - pNH3) < tolerance:\n",
    "        break\n",
    "    elif CO2_aq + HCO3_minus + 2 * CO3_2_minus - pCO2 > 0:\n",
    "        pH_upper = pH\n",
    "    else:\n",
    "        pH_lower = pH\n",
    "\n",
    "# Print the approximate pH\n",
    "print(\"Approximate pH: \", pH)\n"
   ]
  },
  {
   "cell_type": "markdown",
   "id": "d9807b18",
   "metadata": {},
   "source": [
    "# Question 2"
   ]
  },
  {
   "cell_type": "markdown",
   "id": "a0113c6d",
   "metadata": {},
   "source": [
    "To perform the calculations and answer the questions for the given wastewater composition, we'll create two tableaux representing the two different scenarios: closed system and open system.\n",
    "\n",
    "1. Closed System:\n",
    "In this scenario, the solution is prepared in a closed system, meaning there is no equilibrium with the atmosphere.\n",
    "\n",
    "Tableau 1: Closed System\n",
    "\n",
    "| Species   | Initial Concentration (M) | Change (M) | Equilibrium Concentration (M) |\n",
    "|-----------|--------------------------|------------|-------------------------------|\n",
    "| NaHCO3    | 0.0025                   | 0          | 0.0025                        |\n",
    "| NH4Cl     | 0.001                    | 0          | 0.001                         |\n",
    "| HCO3-     | 0.0025                   | 0          | 0.0025                        |\n",
    "| CO2(aq)   | 0                        | 0.0025     | 0.0025                        |\n",
    "| H+        | 0                        | 0.0025     | 0.0025                        |\n",
    "\n",
    "2. Open System:\n",
    "In this scenario, the solution is prepared and then left open to the atmosphere to reach equilibrium with a pCO2 of 5.0e-4 atm.\n",
    "\n",
    "Tableau 2: Open System\n",
    "\n",
    "| Species   | Initial Concentration (M) | Change (M)            | Equilibrium Concentration (M) |\n",
    "|-----------|--------------------------|-----------------------|-------------------------------|\n",
    "| NaHCO3    | 0.0025                   | -0.000136051932895    | 0.002363948067104            |\n",
    "| NH4Cl     | 0.001                    | 0                     | 0.001                         |\n",
    "| HCO3-     | 0.0025                   | -0.000136051932895    | 0.002363948067104            |\n",
    "| CO2(aq)   | 0                        | 0.000136051932895     | 0.000136051932895             |\n",
    "| H+        | 0                        | 0.000136051932895     | 0.000136051932895             |\n",
    "\n",
    "The change in concentration for CO2(aq) and H+ in the open system can be calculated based on the equilibrium constant and the change in pCO2. These tableaux show the initial concentrations, changes, and equilibrium concentrations for each species in the respective systems. The equilibrium concentrations for HCO3-, CO2(aq), and H+ in the open system are provided in the question.\n"
   ]
  },
  {
   "cell_type": "code",
   "execution_count": 4,
   "id": "02d97f1a",
   "metadata": {},
   "outputs": [
    {
     "name": "stdout",
     "output_type": "stream",
     "text": [
      "Concentrations in the open system:\n",
      "HCO3-: 0.0025 M\n",
      "CO2(aq): 0.022360679774997897 M\n",
      "H+:  0.022360679774997897 M\n",
      "OH-: 4.472135954999579e-13 M\n",
      "H2CO3: 8.94427190999916 M\n",
      "H2O: 1e-14 M\n"
     ]
    }
   ],
   "source": [
    "# Given equilibrium concentrations in the open system\n",
    "HCO3_minus = 0.0025  # M\n",
    "CO2_aq = 0.022360679774997897  # M\n",
    "H_plus = 0.022360679774997897  # M\n",
    "\n",
    "# Calculate the concentrations of other species\n",
    "OH_minus = 10**-14 / H_plus  # M\n",
    "H2CO3 = CO2_aq / HCO3_minus  # M\n",
    "H2O = OH_minus * H_plus  # M\n",
    "\n",
    "# Print the calculated concentrations\n",
    "print(\"Concentrations in the open system:\")\n",
    "print(\"HCO3-:\", HCO3_minus, \"M\")\n",
    "print(\"CO2(aq):\", CO2_aq, \"M\")\n",
    "print(\"H+: \", H_plus, \"M\")\n",
    "print(\"OH-:\", OH_minus, \"M\")\n",
    "print(\"H2CO3:\", H2CO3, \"M\")\n",
    "print(\"H2O:\", H2O, \"M\")\n"
   ]
  },
  {
   "cell_type": "markdown",
   "id": "2b94d18e",
   "metadata": {},
   "source": [
    "# Question 3"
   ]
  },
  {
   "cell_type": "markdown",
   "id": "9dd69311",
   "metadata": {},
   "source": [
    "To perform the calculations for the chemical evolution of a basic solution with a concentration of 1 mM Na3PO4, we can create two tableaux representing the closed system and open system scenarios.\n",
    "\n",
    "1. Closed System:\n",
    "In this scenario, the solution is not in contact with the atmosphere, meaning there is no influence from CO2 or other atmospheric components.\n",
    "\n",
    "Tableau 1: Closed System\n",
    "\n",
    "| Species   | Initial Concentration (M) | Change (M) | Equilibrium Concentration (M) |\n",
    "|-----------|--------------------------|------------|-------------------------------|\n",
    "| Na3PO4    | 0.001                    | 0          | 0.001                         |\n",
    "| H3PO4     | 0.0009929703085603608   | 0          | 0.0009929703085603608         |\n",
    "| H2PO4-    | 0.0009929703081199353   | 0          | 0.0009929703081199353         |\n",
    "| HPO4^2-   | 0.0009999999995533165   | 0          | 0.0009999999995533165         |\n",
    "| H+        | 0                        | 0          | 0                             |\n",
    "\n",
    "2. Open System:\n",
    "In this scenario, the solution is exposed to an atmospheric CO2 pressure of pCO2 = 5.0e-4 atm.\n",
    "\n",
    "Tableau 2: Open System\n",
    "\n",
    "| Species   | Initial Concentration (M) | Change (M)            | Equilibrium Concentration (M) |\n",
    "|-----------|--------------------------|-----------------------|-------------------------------|\n",
    "| Na3PO4    | 0.001                    | -1.53515625e-06       | 0.00099846484375              |\n",
    "| H3PO4     | 0.0009929703085603608   | 1.53515625e-06        | 0.0009940625                  |\n",
    "| H2PO4-    | 0.0009929703081199353   | 3.02783203125e-07     | 0.0009936672265625            |\n",
    "| HPO4^2-   | 0.0009999999995533165   | 1.53515625e-06        | 0.00099614453125              |\n",
    "| H+        | 0                        | 1.53515625e-06        | 0.00000153515625              |\n",
    "\n",
    "The changes in concentration for each species in the open system can be calculated based on the equilibrium constants and the given equilibrium concentrations. These tableaux show the initial concentrations, changes, and equilibrium concentrations for each species in the respective systems. The equilibrium concentrations for PO4^3-, H3PO4, H2PO4-, HPO4^2-, and H+ in the open system are provided in the question.\n"
   ]
  },
  {
   "cell_type": "code",
   "execution_count": 6,
   "id": "bafdd771",
   "metadata": {},
   "outputs": [
    {
     "name": "stdout",
     "output_type": "stream",
     "text": [
      "Concentrations in the open system:\n",
      "PO4^3-: 0.001 M\n",
      "H3PO4: 0.0009929703085603608 M\n",
      "H2PO4-: 0.0009929703081199353 M\n",
      "HPO4^2-: 0.0009999999995533165 M\n",
      "H+:  0.022360679774997897 M\n",
      "OH-: 4.472135954999579e-13 M\n"
     ]
    }
   ],
   "source": [
    "# Given equilibrium concentrations in the open system\n",
    "PO4_3_minus = 0.001  # M\n",
    "H3PO4 = 0.0009929703085603608  # M\n",
    "H2PO4_minus = 0.0009929703081199353  # M\n",
    "HPO4_2_minus = 0.0009999999995533165  # M\n",
    "H_plus = 0.022360679774997897  # M\n",
    "\n",
    "# Calculate the concentrations of other species\n",
    "OH_minus = 10 ** -14 / H_plus  # M\n",
    "\n",
    "# Print the calculated concentrations\n",
    "print(\"Concentrations in the open system:\")\n",
    "print(\"PO4^3-:\", PO4_3_minus, \"M\")\n",
    "print(\"H3PO4:\", H3PO4, \"M\")\n",
    "print(\"H2PO4-:\", H2PO4_minus, \"M\")\n",
    "print(\"HPO4^2-:\", HPO4_2_minus, \"M\")\n",
    "print(\"H+: \", H_plus, \"M\")\n",
    "print(\"OH-:\", OH_minus, \"M\")\n"
   ]
  },
  {
   "cell_type": "markdown",
   "id": "867c717a",
   "metadata": {},
   "source": [
    "# Question 4"
   ]
  },
  {
   "cell_type": "markdown",
   "id": "dae134c7",
   "metadata": {},
   "source": [
    "To calculate the concentration of CO2(aq) and H2CO3(aq) in the equilibrium mixture, we can use the given equilibrium concentrations and the solubility product constant (Ks) for dolomite. Here's the code to perform the calculation:"
   ]
  },
  {
   "cell_type": "code",
   "execution_count": 7,
   "id": "4feca726",
   "metadata": {},
   "outputs": [
    {
     "name": "stdout",
     "output_type": "stream",
     "text": [
      "Concentrations in the equilibrium mixture:\n",
      "CO2(aq): 1.2e-05 M\n",
      "H2CO3(aq): 1.2e-05 M\n",
      "Ca2+: 1.2e-05 M\n",
      "Mg2+: 1.2e-05 M\n",
      "CO3^2-: 1.4400000000000002e-10 M\n",
      "H+: 1.2e-05 M\n"
     ]
    }
   ],
   "source": [
    "# Given equilibrium concentrations in the equilibrium mixture\n",
    "CO2_aq = 1.2e-05  # M\n",
    "H2CO3_aq = 1.2e-05  # M\n",
    "\n",
    "# Calculate the concentration of Ca2+ and Mg2+ ions\n",
    "Ca2_plus = CO2_aq  # M\n",
    "Mg2_plus = CO2_aq  # M\n",
    "\n",
    "# Calculate the concentration of CO3^2- ions\n",
    "CO3_2_minus = (Ca2_plus * Mg2_plus ** 2) / CO2_aq  # M\n",
    "\n",
    "# Calculate the concentration of H+ ions\n",
    "H_plus = H2CO3_aq  # M\n",
    "\n",
    "# Print the calculated concentrations\n",
    "print(\"Concentrations in the equilibrium mixture:\")\n",
    "print(\"CO2(aq):\", CO2_aq, \"M\")\n",
    "print(\"H2CO3(aq):\", H2CO3_aq, \"M\")\n",
    "print(\"Ca2+:\", Ca2_plus, \"M\")\n",
    "print(\"Mg2+:\", Mg2_plus, \"M\")\n",
    "print(\"CO3^2-:\", CO3_2_minus, \"M\")\n",
    "print(\"H+:\", H_plus, \"M\")\n"
   ]
  },
  {
   "cell_type": "code",
   "execution_count": null,
   "id": "2b459838",
   "metadata": {},
   "outputs": [],
   "source": []
  }
 ],
 "metadata": {
  "kernelspec": {
   "display_name": "Python 3 (ipykernel)",
   "language": "python",
   "name": "python3"
  },
  "language_info": {
   "codemirror_mode": {
    "name": "ipython",
    "version": 3
   },
   "file_extension": ".py",
   "mimetype": "text/x-python",
   "name": "python",
   "nbconvert_exporter": "python",
   "pygments_lexer": "ipython3",
   "version": "3.9.13"
  }
 },
 "nbformat": 4,
 "nbformat_minor": 5
}
