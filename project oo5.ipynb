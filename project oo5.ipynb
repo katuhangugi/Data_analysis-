{
 "cells": [
  {
   "cell_type": "code",
   "execution_count": 12,
   "id": "0c474b51-b34b-4dc4-a958-0af1fefccf4b",
   "metadata": {},
   "outputs": [
    {
     "name": "stdout",
     "output_type": "stream",
     "text": [
      "Epoch 1/10\n",
      "25/25 [==============================] - 1s 15ms/step - loss: 1.4674 - accuracy: 0.2412 - val_loss: 1.4481 - val_accuracy: 0.2650\n",
      "Epoch 2/10\n",
      "25/25 [==============================] - 0s 7ms/step - loss: 1.4291 - accuracy: 0.2463 - val_loss: 1.4253 - val_accuracy: 0.2150\n",
      "Epoch 3/10\n",
      "25/25 [==============================] - 0s 6ms/step - loss: 1.4128 - accuracy: 0.2488 - val_loss: 1.4166 - val_accuracy: 0.2050\n",
      "Epoch 4/10\n",
      "25/25 [==============================] - 0s 5ms/step - loss: 1.4049 - accuracy: 0.2450 - val_loss: 1.4117 - val_accuracy: 0.2050\n",
      "Epoch 5/10\n",
      "25/25 [==============================] - 0s 6ms/step - loss: 1.4005 - accuracy: 0.2425 - val_loss: 1.4084 - val_accuracy: 0.2450\n",
      "Epoch 6/10\n",
      "25/25 [==============================] - 0s 6ms/step - loss: 1.3981 - accuracy: 0.2488 - val_loss: 1.4066 - val_accuracy: 0.2350\n",
      "Epoch 7/10\n",
      "25/25 [==============================] - 0s 6ms/step - loss: 1.3952 - accuracy: 0.2600 - val_loss: 1.4054 - val_accuracy: 0.2350\n",
      "Epoch 8/10\n",
      "25/25 [==============================] - 0s 7ms/step - loss: 1.3939 - accuracy: 0.2587 - val_loss: 1.4042 - val_accuracy: 0.2350\n",
      "Epoch 9/10\n",
      "25/25 [==============================] - 0s 10ms/step - loss: 1.3916 - accuracy: 0.2663 - val_loss: 1.4031 - val_accuracy: 0.2550\n",
      "Epoch 10/10\n",
      "25/25 [==============================] - 0s 7ms/step - loss: 1.3903 - accuracy: 0.2675 - val_loss: 1.4022 - val_accuracy: 0.2350\n",
      "7/7 - 0s - loss: 1.4022 - accuracy: 0.2350 - 48ms/epoch - 7ms/step\n",
      "\n",
      "Test Accuracy: 0.23499999940395355\n",
      "7/7 [==============================] - 0s 4ms/step\n"
     ]
    },
    {
     "data": {
      "image/png": "[encoded data removed]",
      "text/plain": [
       "<Figure size 800x400 with 4 Axes>"
      ]
     },
     "metadata": {},
     "output_type": "display_data"
    }
   ],
   "source": [
    "import numpy as np\n",
    "import matplotlib.pyplot as plt\n",
    "import tensorflow as tf\n",
    "from tensorflow.keras import layers, models\n",
    "from sklearn.model_selection import train_test_split\n",
    "\n",
    "# Generate synthetic 2x2 puzzle dataset\n",
    "def generate_2x2_puzzle_data(num_samples=1000):\n",
    "    puzzles = np.random.randint(0, 2, size=(num_samples, 2, 2))\n",
    "    return puzzles\n",
    "\n",
    "# Function to create a simple neural network model\n",
    "def create_model():\n",
    "    model = models.Sequential()\n",
    "    model.add(layers.Flatten(input_shape=(2, 2)))\n",
    "    model.add(layers.Dense(16, activation='relu'))\n",
    "    model.add(layers.Dense(4, activation='softmax'))\n",
    "    model.compile(optimizer='adam', loss='sparse_categorical_crossentropy', metrics=['accuracy'])\n",
    "    return model\n",
    "\n",
    "# Function to visualize the original and restored puzzles\n",
    "def visualize_results(original, restored):\n",
    "    plt.figure(figsize=(8, 4))\n",
    "    \n",
    "    for i in range(2):\n",
    "        plt.subplot(2, 2, i+1)\n",
    "        plt.imshow(original[i], cmap='gray')\n",
    "        plt.title('Original')\n",
    "\n",
    "        plt.subplot(2, 2, i+3)\n",
    "        plt.imshow(restored[i], cmap='gray')\n",
    "        plt.title('Restored')\n",
    "\n",
    "    plt.show()\n",
    "\n",
    "# Generate dataset\n",
    "X = generate_2x2_puzzle_data()\n",
    "y = np.arange(X.shape[0])  # Labels for simplicity\n",
    "\n",
    "# Split the data into training and testing sets\n",
    "X_train, X_test, y_train, y_test = train_test_split(X, y, test_size=0.2, random_state=42)\n",
    "\n",
    "# Ensure labels are within the valid range\n",
    "num_classes = 4  # Adjust this based on the number of classes in your problem\n",
    "y_train = y_train % num_classes\n",
    "y_test = y_test % num_classes\n",
    "\n",
    "# Create and train the neural network model\n",
    "model = create_model()\n",
    "model.fit(X_train, y_train, epochs=10, validation_data=(X_test, y_test))\n",
    "\n",
    "# Evaluate the model\n",
    "test_loss, test_acc = model.evaluate(X_test, y_test, verbose=2)\n",
    "print(f\"\\nTest Accuracy: {test_acc}\")\n",
    "\n",
    "# Make predictions on the test set\n",
    "predictions = model.predict(X_test)\n",
    "\n",
    "# Choose the class with the highest probability as the predicted label\n",
    "predicted_labels = np.argmax(predictions, axis=1)\n",
    "\n",
    "# Visualize a few original and restored puzzles\n",
    "num_visualized = 2\n",
    "visualize_results(X_test[:num_visualized], X_test[predicted_labels[:num_visualized]])\n"
   ]
  },
  {
   "cell_type": "code",
   "execution_count": null,
   "id": "799dbd6f-4e2c-4f48-a1c7-297fba4ab2af",
   "metadata": {},
   "outputs": [],
   "source": []
  }
 ],
 "metadata": {
  "kernelspec": {
   "display_name": "Python 3 (ipykernel)",
   "language": "python",
   "name": "python3"
  },
  "language_info": {
   "codemirror_mode": {
    "name": "ipython",
    "version": 3
   },
   "file_extension": ".py",
   "mimetype": "text/x-python",
   "name": "python",
   "nbconvert_exporter": "python",
   "pygments_lexer": "ipython3",
   "version": "3.11.5"
  }
 },
 "nbformat": 4,
 "nbformat_minor": 5
}
