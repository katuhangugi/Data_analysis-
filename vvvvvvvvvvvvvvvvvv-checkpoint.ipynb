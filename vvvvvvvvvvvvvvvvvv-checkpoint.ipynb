{
 "cells": [
  {
   "cell_type": "code",
   "execution_count": 1,
   "id": "ba1ad014",
   "metadata": {},
   "outputs": [
    {
     "name": "stdout",
     "output_type": "stream",
     "text": [
      "Batch 1 - Ranked Documents:\n",
      "Rank 1: prior_case_0001.txt\n",
      "Rank 2: prior_case_0045.txt\n",
      "Rank 3: prior_case_0037.txt\n",
      "Rank 4: prior_case_0011.txt\n",
      "Rank 5: prior_case_0031.txt\n",
      "\n"
     ]
    },
    {
     "ename": "FileNotFoundError",
     "evalue": "[Errno 2] No such file or directory: 'prior_case_0001.txt'",
     "output_type": "error",
     "traceback": [
      "\u001b[1;31m---------------------------------------------------------------------------\u001b[0m",
      "\u001b[1;31mFileNotFoundError\u001b[0m                         Traceback (most recent call last)",
      "\u001b[1;32m~\\AppData\\Local\\Temp\\ipykernel_22596\\3942961581.py\u001b[0m in \u001b[0;36m<module>\u001b[1;34m\u001b[0m\n\u001b[0;32m    101\u001b[0m \u001b[1;33m\u001b[0m\u001b[0m\n\u001b[0;32m    102\u001b[0m \u001b[1;32mif\u001b[0m \u001b[0m__name__\u001b[0m \u001b[1;33m==\u001b[0m \u001b[1;34m'__main__'\u001b[0m\u001b[1;33m:\u001b[0m\u001b[1;33m\u001b[0m\u001b[1;33m\u001b[0m\u001b[0m\n\u001b[1;32m--> 103\u001b[1;33m     \u001b[0mmain\u001b[0m\u001b[1;33m(\u001b[0m\u001b[1;33m)\u001b[0m\u001b[1;33m\u001b[0m\u001b[1;33m\u001b[0m\u001b[0m\n\u001b[0m",
      "\u001b[1;32m~\\AppData\\Local\\Temp\\ipykernel_22596\\3942961581.py\u001b[0m in \u001b[0;36mmain\u001b[1;34m()\u001b[0m\n\u001b[0;32m     74\u001b[0m         \u001b[0mprint\u001b[0m\u001b[1;33m(\u001b[0m\u001b[1;33m)\u001b[0m\u001b[1;33m\u001b[0m\u001b[1;33m\u001b[0m\u001b[0m\n\u001b[0;32m     75\u001b[0m \u001b[1;33m\u001b[0m\u001b[0m\n\u001b[1;32m---> 76\u001b[1;33m         \u001b[0mdocument_embeddings\u001b[0m\u001b[1;33m.\u001b[0m\u001b[0mextend\u001b[0m\u001b[1;33m(\u001b[0m\u001b[1;33m[\u001b[0m\u001b[0mget_document_embedding\u001b[0m\u001b[1;33m(\u001b[0m\u001b[0mget_sentences_from_document\u001b[0m\u001b[1;33m(\u001b[0m\u001b[0mdoc\u001b[0m\u001b[1;33m)\u001b[0m\u001b[1;33m)\u001b[0m \u001b[1;32mfor\u001b[0m \u001b[0mdoc\u001b[0m \u001b[1;32min\u001b[0m \u001b[0mranked_documents\u001b[0m\u001b[1;33m]\u001b[0m\u001b[1;33m)\u001b[0m\u001b[1;33m\u001b[0m\u001b[1;33m\u001b[0m\u001b[0m\n\u001b[0m\u001b[0;32m     77\u001b[0m         \u001b[0mdocuments\u001b[0m\u001b[1;33m.\u001b[0m\u001b[0mextend\u001b[0m\u001b[1;33m(\u001b[0m\u001b[0mranked_documents\u001b[0m\u001b[1;33m)\u001b[0m\u001b[1;33m\u001b[0m\u001b[1;33m\u001b[0m\u001b[0m\n\u001b[0;32m     78\u001b[0m \u001b[1;33m\u001b[0m\u001b[0m\n",
      "\u001b[1;32m~\\AppData\\Local\\Temp\\ipykernel_22596\\3942961581.py\u001b[0m in \u001b[0;36m<listcomp>\u001b[1;34m(.0)\u001b[0m\n\u001b[0;32m     74\u001b[0m         \u001b[0mprint\u001b[0m\u001b[1;33m(\u001b[0m\u001b[1;33m)\u001b[0m\u001b[1;33m\u001b[0m\u001b[1;33m\u001b[0m\u001b[0m\n\u001b[0;32m     75\u001b[0m \u001b[1;33m\u001b[0m\u001b[0m\n\u001b[1;32m---> 76\u001b[1;33m         \u001b[0mdocument_embeddings\u001b[0m\u001b[1;33m.\u001b[0m\u001b[0mextend\u001b[0m\u001b[1;33m(\u001b[0m\u001b[1;33m[\u001b[0m\u001b[0mget_document_embedding\u001b[0m\u001b[1;33m(\u001b[0m\u001b[0mget_sentences_from_document\u001b[0m\u001b[1;33m(\u001b[0m\u001b[0mdoc\u001b[0m\u001b[1;33m)\u001b[0m\u001b[1;33m)\u001b[0m \u001b[1;32mfor\u001b[0m \u001b[0mdoc\u001b[0m \u001b[1;32min\u001b[0m \u001b[0mranked_documents\u001b[0m\u001b[1;33m]\u001b[0m\u001b[1;33m)\u001b[0m\u001b[1;33m\u001b[0m\u001b[1;33m\u001b[0m\u001b[0m\n\u001b[0m\u001b[0;32m     77\u001b[0m         \u001b[0mdocuments\u001b[0m\u001b[1;33m.\u001b[0m\u001b[0mextend\u001b[0m\u001b[1;33m(\u001b[0m\u001b[0mranked_documents\u001b[0m\u001b[1;33m)\u001b[0m\u001b[1;33m\u001b[0m\u001b[1;33m\u001b[0m\u001b[0m\n\u001b[0;32m     78\u001b[0m \u001b[1;33m\u001b[0m\u001b[0m\n",
      "\u001b[1;32m~\\AppData\\Local\\Temp\\ipykernel_22596\\3942961581.py\u001b[0m in \u001b[0;36mget_sentences_from_document\u001b[1;34m(filepath)\u001b[0m\n\u001b[0;32m      8\u001b[0m \u001b[1;33m\u001b[0m\u001b[0m\n\u001b[0;32m      9\u001b[0m \u001b[1;32mdef\u001b[0m \u001b[0mget_sentences_from_document\u001b[0m\u001b[1;33m(\u001b[0m\u001b[0mfilepath\u001b[0m\u001b[1;33m)\u001b[0m\u001b[1;33m:\u001b[0m\u001b[1;33m\u001b[0m\u001b[1;33m\u001b[0m\u001b[0m\n\u001b[1;32m---> 10\u001b[1;33m     \u001b[1;32mwith\u001b[0m \u001b[0mopen\u001b[0m\u001b[1;33m(\u001b[0m\u001b[0mfilepath\u001b[0m\u001b[1;33m,\u001b[0m \u001b[1;34m'r'\u001b[0m\u001b[1;33m)\u001b[0m \u001b[1;32mas\u001b[0m \u001b[0mfile\u001b[0m\u001b[1;33m:\u001b[0m\u001b[1;33m\u001b[0m\u001b[1;33m\u001b[0m\u001b[0m\n\u001b[0m\u001b[0;32m     11\u001b[0m         \u001b[0mdocument\u001b[0m \u001b[1;33m=\u001b[0m \u001b[0mfile\u001b[0m\u001b[1;33m.\u001b[0m\u001b[0mread\u001b[0m\u001b[1;33m(\u001b[0m\u001b[1;33m)\u001b[0m\u001b[1;33m\u001b[0m\u001b[1;33m\u001b[0m\u001b[0m\n\u001b[0;32m     12\u001b[0m     \u001b[0msentences\u001b[0m \u001b[1;33m=\u001b[0m \u001b[0msent_tokenize\u001b[0m\u001b[1;33m(\u001b[0m\u001b[0mdocument\u001b[0m\u001b[1;33m)\u001b[0m\u001b[1;33m\u001b[0m\u001b[1;33m\u001b[0m\u001b[0m\n",
      "\u001b[1;31mFileNotFoundError\u001b[0m: [Errno 2] No such file or directory: 'prior_case_0001.txt'"
     ]
    }
   ],
   "source": [
    "import os\n",
    "import numpy as np\n",
    "import matplotlib.pyplot as plt\n",
    "from sentence_transformers import SentenceTransformer\n",
    "from sklearn.metrics.pairwise import cosine_similarity\n",
    "from nltk.tokenize import sent_tokenize\n",
    "\n",
    "\n",
    "def get_sentences_from_document(filepath):\n",
    "    with open(filepath, 'r') as file:\n",
    "        document = file.read()\n",
    "    sentences = sent_tokenize(document)\n",
    "    return sentences\n",
    "\n",
    "\n",
    "def get_document_embedding(sentences):\n",
    "    model = SentenceTransformer('bert-base-nli-mean-tokens')\n",
    "    sentence_embeddings = model.encode(sentences)\n",
    "    document_embedding = np.mean(sentence_embeddings, axis=0)\n",
    "    return document_embedding\n",
    "\n",
    "\n",
    "def rank_documents(query_embedding, document_embeddings, documents, k):\n",
    "    similarities = cosine_similarity(query_embedding.reshape(1, -1), document_embeddings)[0]\n",
    "    ranked_indices = np.argsort(-similarities)[:k]\n",
    "    ranked_documents = [documents[i] for i in ranked_indices]\n",
    "    return ranked_documents\n",
    "\n",
    "\n",
    "def process_query_case(query_case_filepath, corpus_folder, k, batch_size=50):\n",
    "    query_sentences = get_sentences_from_document(query_case_filepath)\n",
    "    query_embedding = get_document_embedding(query_sentences)\n",
    "\n",
    "    document_embeddings = []\n",
    "    documents = []\n",
    "\n",
    "    for document_file in os.listdir(corpus_folder):\n",
    "        document_filepath = os.path.join(corpus_folder, document_file)\n",
    "        document_sentences = get_sentences_from_document(document_filepath)\n",
    "        document_embedding = get_document_embedding(document_sentences)\n",
    "        document_embeddings.append(document_embedding)\n",
    "        documents.append(document_file)\n",
    "\n",
    "        if len(document_embeddings) == batch_size:\n",
    "            document_embeddings = np.vstack(document_embeddings)\n",
    "            ranked_documents = rank_documents(query_embedding, document_embeddings, documents, k)\n",
    "            document_embeddings = []\n",
    "            documents = []\n",
    "\n",
    "            yield ranked_documents\n",
    "\n",
    "    if len(document_embeddings) > 0:\n",
    "        document_embeddings = np.vstack(document_embeddings)\n",
    "        ranked_documents = rank_documents(query_embedding, document_embeddings, documents, k)\n",
    "\n",
    "        yield ranked_documents\n",
    "\n",
    "\n",
    "def main():\n",
    "    query_case_filepath = r\"C:\\Users\\This PC\\Desktop\\Task_2\\Prior_Cases\\prior_case_0001.txt\"\n",
    "    corpus_folder = r\"C:\\Users\\This PC\\Desktop\\Task_2\\Prior_Cases\"\n",
    "    k = 5  # Number of top-ranked documents to retrieve\n",
    "    batch_size = 50  # Batch size for processing documents\n",
    "\n",
    "    batch_generator = process_query_case(query_case_filepath, corpus_folder, k, batch_size)\n",
    "\n",
    "    document_embeddings = []\n",
    "    documents = []\n",
    "\n",
    "    for i, ranked_documents in enumerate(batch_generator):\n",
    "        print(f\"Batch {i+1} - Ranked Documents:\")\n",
    "        for j, document in enumerate(ranked_documents):\n",
    "            print(f\"Rank {j+1}: {document}\")\n",
    "        print()\n",
    "\n",
    "        document_embeddings.extend([get_document_embedding(get_sentences_from_document(doc)) for doc in ranked_documents])\n",
    "        documents.extend(ranked_documents)\n",
    "\n",
    "    document_embeddings = np.vstack(document_embeddings)\n",
    "    similarity_matrix = cosine_similarity(document_embeddings)\n",
    "    \n",
    "    # Create heatmap\n",
    "    fig, ax = plt.subplots()\n",
    "    im = ax.imshow(similarity_matrix, cmap='hot')\n",
    "\n",
    "    # Set axis labels\n",
    "    ax.set_xticks(np.arange(len(documents)))\n",
    "    ax.set_yticks(np.arange(len(documents)))\n",
    "    ax.set_xticklabels(documents)\n",
    "    ax.set_yticklabels(documents)\n",
    "    plt.setp(ax.get_xticklabels(), rotation=45, ha=\"right\")\n",
    "\n",
    "    # Set colorbar\n",
    "    cbar = ax.figure.colorbar(im, ax=ax)\n",
    "    cbar.ax.set_ylabel(\"Similarity Score\", rotation=-90, va=\"bottom\")\n",
    "\n",
    "    # Set title and show the plot\n",
    "    ax.set_title(\"Similarity Matrix - Query vs. Documents\")\n",
    "    plt.show()\n",
    "\n",
    "\n",
    "if __name__ == '__main__':\n",
    "    main()\n"
   ]
  },
  {
   "cell_type": "code",
   "execution_count": 6,
   "id": "1274a6c2",
   "metadata": {},
   "outputs": [
    {
     "ename": "NameError",
     "evalue": "name 'corpus_folder' is not defined",
     "output_type": "error",
     "traceback": [
      "\u001b[1;31m---------------------------------------------------------------------------\u001b[0m",
      "\u001b[1;31mNameError\u001b[0m                                 Traceback (most recent call last)",
      "\u001b[1;32m~\\AppData\\Local\\Temp\\ipykernel_23116\\3291019671.py\u001b[0m in \u001b[0;36m<module>\u001b[1;34m\u001b[0m\n\u001b[1;32m----> 1\u001b[1;33m \u001b[0mfile_list\u001b[0m \u001b[1;33m=\u001b[0m \u001b[0mos\u001b[0m\u001b[1;33m.\u001b[0m\u001b[0mlistdir\u001b[0m\u001b[1;33m(\u001b[0m\u001b[0mcorpus_folder\u001b[0m\u001b[1;33m)\u001b[0m\u001b[1;33m\u001b[0m\u001b[1;33m\u001b[0m\u001b[0m\n\u001b[0m\u001b[0;32m      2\u001b[0m \u001b[0mprint\u001b[0m\u001b[1;33m(\u001b[0m\u001b[0mfile_list\u001b[0m\u001b[1;33m)\u001b[0m\u001b[1;33m\u001b[0m\u001b[1;33m\u001b[0m\u001b[0m\n",
      "\u001b[1;31mNameError\u001b[0m: name 'corpus_folder' is not defined"
     ]
    }
   ],
   "source": [
    "file_list = os.listdir(corpus_folder)\n",
    "print(file_list)\n"
   ]
  },
  {
   "cell_type": "code",
   "execution_count": null,
   "id": "f2796203",
   "metadata": {},
   "outputs": [],
   "source": []
  }
 ],
 "metadata": {
  "kernelspec": {
   "display_name": "Python 3 (ipykernel)",
   "language": "python",
   "name": "python3"
  },
  "language_info": {
   "codemirror_mode": {
    "name": "ipython",
    "version": 3
   },
   "file_extension": ".py",
   "mimetype": "text/x-python",
   "name": "python",
   "nbconvert_exporter": "python",
   "pygments_lexer": "ipython3",
   "version": "3.9.13"
  }
 },
 "nbformat": 4,
 "nbformat_minor": 5
}
