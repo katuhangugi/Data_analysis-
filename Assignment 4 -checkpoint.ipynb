{
 "cells": [
  {
   "cell_type": "markdown",
   "id": "62bf13a4",
   "metadata": {},
   "source": [
    "# Question 1"
   ]
  },
  {
   "cell_type": "markdown",
   "id": "2e1af1a0",
   "metadata": {},
   "source": [
    "To calculate the equilibrium constant (K) for the given reaction at 25°C and 1 atm pressure, we need to use the standard Gibbs free energy of formation (∆G°f) values for each species involved. The equilibrium constant (K) is related to the standard Gibbs free energy change (∆G°) by the equation:\n",
    "\n",
    "∆G° = -RT ln(K)\n",
    "\n",
    "Where:\n",
    "R = Gas constant = 8.314 J/(mol·K)\n",
    "T = Temperature in Kelvin (25°C = 298.15 K)\n",
    "\n",
    "Let's calculate the ∆G° for the reaction using the given ∆G°f values:\n",
    "\n",
    "∆G° = [∆G°f(PCB-Cl3) + ∆G°f(Cl-) + ∆G°f(H2CO)] - [∆G°f(PCB-Cl4) + ∆G°f(HCOOH) + ∆G°f(H2O)]\n",
    "\n",
    "∆G° = [405.6 + (-131.23) + (-699.6)] - [465.2 + (-372.3) + (-237.18)]\n",
    "∆G° = -425.63 kJ/mol\n",
    "\n",
    "Now, let's calculate the equilibrium constant (K) using the equation:\n",
    "\n",
    "∆G° = -RT ln(K)\n",
    "\n",
    "K = e^(-∆G°/RT)\n",
    "\n",
    "K = e^(-(-425.63×10^3 J/mol) / (8.314 J/(mol·K) × 298.15 K))\n",
    "\n",
    "K = e^(51.02)\n",
    "\n",
    "K ≈ 1.66 × 10^22\n",
    "\n",
    "Therefore, the equilibrium constant for the given reaction at 25°C and 1 atm pressure is approximately 1.66 × 10^22."
   ]
  },
  {
   "cell_type": "code",
   "execution_count": 1,
   "id": "635226a6",
   "metadata": {},
   "outputs": [
    {
     "name": "stdout",
     "output_type": "stream",
     "text": [
      "The equilibrium constant (K) is approximately: 1.12e+00\n"
     ]
    }
   ],
   "source": [
    "import math\n",
    "\n",
    "# Constants\n",
    "R = 8.314  # Gas constant in J/(mol·K)\n",
    "T = 298.15  # Temperature in Kelvin\n",
    "\n",
    "# Standard Gibbs free energy of formation (∆G°f) values in kJ/mol\n",
    "delta_G_f = {\n",
    "    'PCB-Cl4': 465.2,\n",
    "    'HCOOH': -372.3,\n",
    "    'H2O': -237.18,\n",
    "    'PCB-Cl3': 405.6,\n",
    "    'Cl-': -131.23,\n",
    "    'H2CO': -699.6,\n",
    "    'H+': 0,\n",
    "    'H': 232.6,\n",
    "}\n",
    "\n",
    "# Calculate ∆G°\n",
    "delta_G = (delta_G_f['PCB-Cl3'] + delta_G_f['Cl-'] + delta_G_f['H2CO']) - (delta_G_f['PCB-Cl4'] + delta_G_f['HCOOH'] + delta_G_f['H2O'])\n",
    "\n",
    "# Calculate equilibrium constant (K)\n",
    "K = math.exp(-delta_G / (R * T))\n",
    "\n",
    "# Display the result\n",
    "print(f\"The equilibrium constant (K) is approximately: {K:.2e}\")\n"
   ]
  },
  {
   "cell_type": "markdown",
   "id": "df090d1b",
   "metadata": {},
   "source": [
    "# Question 1.2"
   ]
  },
  {
   "cell_type": "markdown",
   "id": "732024e5",
   "metadata": {},
   "source": [
    "To calculate the energy that the microbes can obtain or need to provide in catalyzing the reaction, we can use the Nernst equation, which relates the standard Gibbs free energy change (∆G°) to the cell potential (∆E°) and the number of moles of electrons transferred (n):\n",
    "\n",
    "∆G° = -nF∆E°\n",
    "\n",
    "Where:\n",
    "∆G° = Standard Gibbs free energy change in J/mol\n",
    "n = Number of moles of electrons transferred\n",
    "F = Faraday's constant = 96485 C/mol\n",
    "∆E° = Cell potential in volts\n",
    "\n",
    "We need to determine the number of moles of electrons transferred (n) in the given reaction. From the balanced reaction equation:\n",
    "\n",
    "PCB-Cl4 + HCOOH + H2O ⇌ PCB-Cl3 + Cl- + H2CO3 + H+\n",
    "\n",
    "We can see that one chlorine atom is removed from PCB-Cl4, which involves the transfer of one electron. So, n = 1.\n",
    "\n",
    "Next, we need to calculate the cell potential (∆E°) under the given conditions. The Nernst equation for a biochemical reaction can be written as:\n",
    "\n",
    "∆E° = (∆E°' - (0.05916/n) * log(Q))\n",
    "\n",
    "Where:\n",
    "∆E° = Cell potential in volts\n",
    "∆E°' = Standard cell potential in volts under standard conditions (pH 7, 25°C)\n",
    "n = Number of moles of electrons transferred\n",
    "Q = Reaction quotient (concentration of products divided by the concentration of reactants)\n",
    "\n",
    "The concentrations of the species involved in the reaction are given. Let's calculate the cell potential (∆E°) using the Nernst equation:"
   ]
  },
  {
   "cell_type": "code",
   "execution_count": 2,
   "id": "324644a6",
   "metadata": {},
   "outputs": [
    {
     "name": "stdout",
     "output_type": "stream",
     "text": [
      "The energy involved in the reaction is approximately: -1.90e+05 J\n"
     ]
    }
   ],
   "source": [
    "import math\n",
    "\n",
    "# Constants\n",
    "F = 96485  # Faraday's constant in C/mol\n",
    "n = 1  # Number of moles of electrons transferred\n",
    "\n",
    "# Standard cell potential under standard conditions\n",
    "delta_E_prime = 1.23  # Assumed value\n",
    "\n",
    "# Concentrations (in M)\n",
    "concentrations = {\n",
    "    'PCB-Cl4': 1e-6,\n",
    "    'PCB-Cl3': 1e-10,\n",
    "    'HCOOH': 1e-7,\n",
    "    'Cl-': 1e-4,\n",
    "    'H2CO3': 1e-5,\n",
    "    'H+': 10 ** (-6.5),\n",
    "}\n",
    "\n",
    "# Calculate the reaction quotient (Q)\n",
    "Q = (concentrations['PCB-Cl3'] * concentrations['Cl-'] * concentrations['H2CO3'] * concentrations['H+']) / (concentrations['PCB-Cl4'] * concentrations['HCOOH'])\n",
    "\n",
    "# Calculate the cell potential (∆E°)\n",
    "delta_E = delta_E_prime - (0.05916 / n) * math.log10(Q)\n",
    "\n",
    "# Calculate the energy (E) in joules\n",
    "energy = -n * F * delta_E\n",
    "\n",
    "# Display the result\n",
    "print(f\"The energy involved in the reaction is approximately: {energy:.2e} J\")\n"
   ]
  },
  {
   "cell_type": "markdown",
   "id": "d15e4670",
   "metadata": {},
   "source": [
    "# Question 1.3"
   ]
  },
  {
   "cell_type": "markdown",
   "id": "f5eb4426",
   "metadata": {},
   "source": [
    "The energy involved in the reaction, as calculated in question 1.2, is approximately -1.90e+05 J. Since the energy is negative, it indicates that the reaction releases energy.For a reaction to proceed spontaneously without the assistance of microbes, the overall Gibbs free energy change (∆G) must be negative. The relationship between ∆G and the energy (∆E) involved in the reaction is given by:\n",
    "\n",
    "∆G = -∆E\n",
    "\n",
    "Since the energy (∆E) is negative (-1.90e+05 J), the ∆G will be positive. A positive ∆G indicates that the reaction is not spontaneous under standard conditions and cannot proceed without an external energy source or the involvement of the microbes. In this case, since the microbes can obtain energy from the reaction, it implies that they can provide the necessary energy to drive the reaction forward, making it thermodynamically feasible. The microbes play a crucial role in catalyzing the reaction and allowing it to proceed under the given conditions. Without the microbes, the reaction would not occur spontaneously."
   ]
  },
  {
   "cell_type": "markdown",
   "id": "1a993de3",
   "metadata": {},
   "source": [
    "# Question 1.4"
   ]
  },
  {
   "cell_type": "markdown",
   "id": "fff253b5",
   "metadata": {},
   "source": [
    "The Gibbs free energy change (∆G) can be calculated using the formula:\n",
    "\n",
    "∆G = ∆G° + RT * ln(Q)\n",
    "\n",
    "Where:\n",
    "∆G° is the standard Gibbs free energy change\n",
    "R is the gas constant (8.314 J/(mol·K))\n",
    "T is the temperature in Kelvin\n",
    "ln is the natural logarithm\n",
    "Q is the reaction quotient\n",
    "\n",
    "Given that the energy involved in the reaction (∆E) is approximately -1.90e+05 J, we can convert it to Joules and assign it a negative sign to represent energy supplied by the microbes:\n",
    "\n",
    "∆E = -1.90e+05 J\n",
    "\n",
    "To calculate ∆G°, we use the relationship between ∆G° and ∆E°:\n",
    "\n",
    "∆G° = -∆E°\n",
    "\n",
    "Since the energy involved (∆E) is positive, we assign the same value to ∆E°:\n",
    "\n",
    "∆E° = 1.90e+05 J\n",
    "\n",
    "Now, let's calculate ∆G° using the Nernst equation:\n",
    "\n",
    "∆G° = -n * F * ∆E°\n",
    "\n",
    "Where:\n",
    "n is the number of moles of electrons transferred (previously determined as 1)\n",
    "F is Faraday's constant (96485 C/mol)\n",
    "\n",
    "∆G° = -1 * 96485 C/mol * 1.90e+05 J\n",
    "∆G° = -1.83e+10 J/mol\n",
    "\n",
    "Next, we need to calculate Q, the reaction quotient, using the given concentrations:\n",
    "\n",
    "Q = ([PCB-Cl3] * [Cl-] * [H2CO3] * [H+]) / ([PCB-Cl4] * [HCOOH])\n",
    "\n",
    "Using the provided concentrations:\n",
    "[PCB-Cl3] = 10^-10 M\n",
    "[Cl-] = 10^-4 M\n",
    "[H2CO3] = 10^-5 M\n",
    "[H+] = 10^-6.5 M\n",
    "[PCB-Cl4] = 10^-6 M\n",
    "[HCOOH] = 10^-7 M\n",
    "\n",
    "Q = (10^-10 * 10^-4 * 10^-5 * 10^-6.5) / (10^-6 * 10^-7)\n",
    "Q = 10^-32.5\n",
    "\n",
    "Now, we can calculate ∆G using the formula:\n",
    "\n",
    "∆G = ∆G° + RT * ln(Q)\n",
    "\n",
    "Given that the temperature (T) is 25°C, which is 298.15 K, and R is the gas constant (8.314 J/(mol·K)), we can substitute these values into the equation:\n",
    "\n",
    "∆G = -1.83e+10 J/mol + 8.314 J/(mol·K) * 298.15 K * ln(10^-32.5)"
   ]
  },
  {
   "cell_type": "code",
   "execution_count": 3,
   "id": "4b4e18c7",
   "metadata": {},
   "outputs": [
    {
     "name": "stdout",
     "output_type": "stream",
     "text": [
      "The Gibbs free energy change (∆G) is approximately: -1.83e+10 J/mol\n"
     ]
    }
   ],
   "source": [
    "import math\n",
    "\n",
    "# Constants\n",
    "R = 8.314  # Gas constant in J/(mol·K)\n",
    "T = 298.15  # Temperature in Kelvin\n",
    "\n",
    "# ∆G° in J/mol\n",
    "delta_G_prime = -1.83e+10\n",
    "\n",
    "# Q (reaction quotient)\n",
    "Q = 10 ** (-32.5)\n",
    "\n",
    "# Calculate ∆G using the formula\n",
    "delta_G = delta_G_prime + R * T * math.log(Q)\n",
    "\n",
    "# Display the result\n",
    "print(f\"The Gibbs free energy change (∆G) is approximately: {delta_G:.2e} J/mol\")\n"
   ]
  },
  {
   "cell_type": "markdown",
   "id": "e4f8d4bf",
   "metadata": {},
   "source": [
    "# Question 1.5"
   ]
  },
  {
   "cell_type": "markdown",
   "id": "80717dac",
   "metadata": {},
   "source": [
    "To determine whether the system described by the conditions in question 1.2 is at chemical equilibrium, we can compare the calculated equilibrium constant (K_eq) for the reaction with the reaction quotient (Q). The equilibrium constant (K_eq) is defined as the ratio of the concentrations of the products to the concentrations of the reactants at equilibrium. It is calculated using the formula:\n",
    "\n",
    "K_eq = ([PCB-Cl3] * [Cl-] * [H2CO3] * [H+]) / ([PCB-Cl4] * [HCOOH])\n",
    "\n",
    "From question 1.2, we have the concentrations of the species involved in the reaction:\n",
    "\n",
    "[PCB-Cl3] = 10^-10 M\n",
    "[Cl-] = 10^-4 M\n",
    "[H2CO3] = 10^-5 M\n",
    "[H+] = 10^-6.5 M\n",
    "[PCB-Cl4] = 10^-6 M\n",
    "[HCOOH] = 10^-7 M\n",
    "\n",
    "Let's calculate the equilibrium constant (K_eq):\n",
    "\n",
    "K_eq = (10^-10 * 10^-4 * 10^-5 * 10^-6.5) / (10^-6 * 10^-7)\n",
    "K_eq = 10^-32.5\n",
    "\n",
    "Now, we compare the equilibrium constant (K_eq) with the reaction quotient (Q). If K_eq and Q are equal, the system is at equilibrium. If K_eq is greater than Q, the system is not at equilibrium, and the reaction must proceed in the forward direction to reach equilibrium. If K_eq is less than Q, the system is not at equilibrium, and the reaction must proceed in the reverse direction to reach equilibrium. In this case, since Q was calculated as 10^-32.5, and K_eq is also 10^-32.5, we can conclude that the system is at chemical equilibrium. The concentrations of the reactants and products are balanced, and there is no net tendency for the reaction to proceed in either the forward or reverse direction."
   ]
  },
  {
   "cell_type": "code",
   "execution_count": 4,
   "id": "a557a8ee",
   "metadata": {},
   "outputs": [],
   "source": [
    "# Given concentrations\n",
    "PCB_Cl4 = 1e-6\n",
    "HCOOH = 1e-7\n",
    "H2O = 1e-6\n",
    "PCB_Cl3 = 1e-10\n",
    "Cl = 1e-4\n",
    "H2CO = 1e-5\n",
    "H = 1e-6\n",
    "\n",
    "# Calculate K_eq\n",
    "K_eq = (PCB_Cl3 * Cl * H2CO * H) / (PCB_Cl4 * HCOOH * H2O)\n"
   ]
  },
  {
   "cell_type": "code",
   "execution_count": 5,
   "id": "a556fc9d",
   "metadata": {},
   "outputs": [],
   "source": [
    "# Given concentrations\n",
    "PCB_Cl4 = 1e-6\n",
    "HCOOH = 1e-7\n",
    "H2O = 1e-6\n",
    "PCB_Cl3 = 1e-10\n",
    "Cl = 1e-4\n",
    "H2CO = 1e-5\n",
    "H = 1e-6\n",
    "\n",
    "# Calculate Q\n",
    "Q = (PCB_Cl3 * Cl * H2CO * H) / (PCB_Cl4 * HCOOH * H2O)\n"
   ]
  },
  {
   "cell_type": "code",
   "execution_count": 6,
   "id": "4035637f",
   "metadata": {},
   "outputs": [
    {
     "name": "stdout",
     "output_type": "stream",
     "text": [
      "The system is at chemical equilibrium.\n"
     ]
    }
   ],
   "source": [
    "# Compare K_eq and Q\n",
    "if math.isclose(K_eq, Q):\n",
    "    print(\"The system is at chemical equilibrium.\")\n",
    "else:\n",
    "    if K_eq > Q:\n",
    "        print(\"The system is not at equilibrium. It must proceed in the forward direction to reach equilibrium.\")\n",
    "    else:\n",
    "        print(\"The system is not at equilibrium. It must proceed in the reverse direction to reach equilibrium.\")\n"
   ]
  },
  {
   "cell_type": "markdown",
   "id": "77498dc9",
   "metadata": {},
   "source": [
    "# Question 1.5"
   ]
  },
  {
   "cell_type": "markdown",
   "id": "b342ac8d",
   "metadata": {},
   "source": [
    "To determine how a temperature change would affect the extent of the reaction, we need to consider the effect of temperature on the equilibrium constant (K_eq) using the van 't Hoff equation:\n",
    "\n",
    "ln(K_eq2/K_eq1) = ∆H°/R * (1/T1 - 1/T2)\n",
    "\n",
    "Where:\n",
    "K_eq1 is the equilibrium constant at temperature T1\n",
    "K_eq2 is the equilibrium constant at temperature T2\n",
    "∆H° is the standard enthalpy change for the reaction\n",
    "R is the gas constant (8.314 J/(mol·K))\n",
    "T1 and T2 are the initial and final temperatures, respectively, in Kelvin\n",
    "\n",
    "Given that the energy involved (∆E) is positive (1.90e+05 J), it implies that the reaction is endergonic and requires energy input. However, the energy value itself does not provide information about the equilibrium constant. Since we don't have the equilibrium constant (K_eq) for the reaction, we cannot directly calculate the extent of the reaction at different temperatures. However, we can make a qualitative assessment based on the temperature change.\n",
    "Generally, an increase in temperature favors the forward reaction, while a decrease in temperature favors the reverse reaction. If the reaction is exothermic (∆H° < 0), an increase in temperature would shift the reaction towards the reactants. Conversely, if the reaction is endothermic (∆H° > 0), an increase in temperature would favor the products.In this case, since we don't know the sign of ∆H°, we cannot definitively determine the effect of temperature on the extent of the reaction. However, if we assume the reaction is exothermic (which is often the case for microbial dechlorination), an increase in temperature from 10°C to 25°C would likely favor the reverse reaction, reducing the extent of dechlorination."
   ]
  },
  {
   "cell_type": "code",
   "execution_count": 7,
   "id": "8feaf891",
   "metadata": {},
   "outputs": [
    {
     "name": "stdout",
     "output_type": "stream",
     "text": [
      "The ratio K_eq2/K_eq1 is approximately: 0.343502002055081\n"
     ]
    }
   ],
   "source": [
    "import math\n",
    "\n",
    "# Constants\n",
    "R = 8.314  # Gas constant in J/(mol·K)\n",
    "T1 = 10 + 273.15  # Initial temperature in Kelvin\n",
    "T2 = 25 + 273.15  # Final temperature in Kelvin\n",
    "delta_H = -50000  # Hypothetical standard enthalpy change in J/mol\n",
    "\n",
    "# Calculate the temperature effect on K_eq using the van 't Hoff equation\n",
    "delta_H_over_R = delta_H / R\n",
    "ln_K_eq_ratio = delta_H_over_R * (1 / T1 - 1 / T2)\n",
    "\n",
    "# Calculate K_eq2/K_eq1\n",
    "K_eq_ratio = math.exp(ln_K_eq_ratio)\n",
    "\n",
    "# Display the result\n",
    "print(f\"The ratio K_eq2/K_eq1 is approximately: {K_eq_ratio}\")\n"
   ]
  },
  {
   "cell_type": "markdown",
   "id": "ed866a14",
   "metadata": {},
   "source": [
    "# Question 1.6 "
   ]
  },
  {
   "cell_type": "markdown",
   "id": "6aa2038d",
   "metadata": {},
   "source": [
    "The different aqueous environment, specifically the marine environment, can have an impact on the species involved in the reaction and the overall progress of the reaction. One significant factor that can influence the reaction is the ionic strength of seawater, which is approximately equal to 0.7. The presence of ions in seawater can affect the activities and concentrations of species involved in the reaction. One specific effect is the change in the activity coefficients of ions, which can alter the effective concentrations of species and thus influence the reaction equilibrium. To demonstrate the effect of ionic strength on the reaction, we can calculate the activity coefficients of species using the Debye-Hückel equation and compare the equilibrium constant (K_eq) under different ionic strengths."
   ]
  },
  {
   "cell_type": "code",
   "execution_count": 10,
   "id": "7a4c8262",
   "metadata": {},
   "outputs": [
    {
     "name": "stdout",
     "output_type": "stream",
     "text": [
      "The new equilibrium constant (K_eq) at the new ionic strength is approximately: (0.8483834151485123-0.3295393777705203j)\n"
     ]
    }
   ],
   "source": [
    "import cmath\n",
    "\n",
    "# Constants\n",
    "K_eq_reference = 1.0  # Equilibrium constant at reference ionic strength\n",
    "ionic_strength_reference = 0.7  # Reference ionic strength in mol/L\n",
    "ionic_strength_new = 0.1  # New ionic strength in mol/L\n",
    "ionic_strength_difference = ionic_strength_new - ionic_strength_reference\n",
    "\n",
    "# Calculate the effect of ionic strength on K_eq using the extended Debye-Hückel equation\n",
    "A = 0.5092  # Debye-Hückel parameter A\n",
    "B = 0.3281  # Debye-Hückel parameter B\n",
    "delta_ln_K_eq = -A * (ionic_strength_difference) ** 0.5 / (1 + B * (ionic_strength_difference) ** 0.5)\n",
    "\n",
    "# Calculate the new K_eq\n",
    "K_eq_new = K_eq_reference * cmath.exp(delta_ln_K_eq)\n",
    "\n",
    "# Display the result\n",
    "print(f\"The new equilibrium constant (K_eq) at the new ionic strength is approximately: {K_eq_new}\")\n"
   ]
  },
  {
   "cell_type": "markdown",
   "id": "0a23e08a",
   "metadata": {},
   "source": [
    "# Question 2\n"
   ]
  },
  {
   "cell_type": "markdown",
   "id": "3184e5fa",
   "metadata": {},
   "source": [
    "To compute and plot the variation of the log of the equilibrium constant (log Keq) for the dissolution of calcite as a function of temperature, we can use the Gibbs free energy of formation data provided. The formula to calculate log Keq is:\n",
    "log Keq = (ΔG°f(Ca2+) + ΔG°f(CO2-3)) / (R * T)\n",
    "where ΔG°f is the standard Gibbs free energy of formation, R is the gas constant, and T is the temperature in Kelvin."
   ]
  },
  {
   "cell_type": "code",
   "execution_count": 11,
   "id": "6218e7fc",
   "metadata": {},
   "outputs": [
    {
     "data": {
      "image/png": "[encoded data removed]",
      "text/plain": [
       "<Figure size 640x480 with 1 Axes>"
      ]
     },
     "metadata": {},
     "output_type": "display_data"
    }
   ],
   "source": [
    "import matplotlib.pyplot as plt\n",
    "import numpy as np\n",
    "\n",
    "# Constants\n",
    "R = 8.314  # Gas constant in J/(mol*K)\n",
    "\n",
    "# Thermodynamic data (Gibbs free energy of formation in kJ/mol)\n",
    "delta_G_f_Ca2 = -553.54\n",
    "delta_G_f_CO3 = -527.9\n",
    "\n",
    "# Temperature range\n",
    "temperature_range = np.arange(2, 51)  # From 2°C to 50°C\n",
    "\n",
    "# Calculate log Keq at each temperature\n",
    "log_Keq = (delta_G_f_Ca2 + delta_G_f_CO3) / (R * (temperature_range + 273.15))\n",
    "\n",
    "# Plotting\n",
    "plt.plot(temperature_range, log_Keq)\n",
    "plt.xlabel('Temperature (°C)')\n",
    "plt.ylabel('log Keq')\n",
    "plt.title('Variation of log Keq for Calcite Dissolution')\n",
    "plt.grid(True)\n",
    "plt.show()\n"
   ]
  },
  {
   "cell_type": "markdown",
   "id": "2cb4b8d6",
   "metadata": {},
   "source": [
    "Based on the plot, observe the trend of log Keq as the temperature increases. If log Keq becomes more negative as the temperature increases, it indicates that the dissolution of calcite becomes more favorable at higher temperatures. Conversely, if log Keq becomes less negative or even positive, it indicates that the dissolution becomes less favorable as the temperature increases."
   ]
  },
  {
   "cell_type": "markdown",
   "id": "5e6807dd",
   "metadata": {},
   "source": [
    "# Question 3 "
   ]
  },
  {
   "cell_type": "markdown",
   "id": "c19ea675",
   "metadata": {},
   "source": [
    "To compute the activities of Na+, Ca2+, and HCO3- in the given solution, we can use the ion activity coefficient equation, such as the Debye-Hückel equation or the extended Debye-Hückel equation. In this case, let's use the extended Debye-Hückel equation:\n",
    "log γ = -A * (z^2 * √(I))/(1 + B * √(I))\n",
    "where γ is the activity coefficient, A and B are the Debye-Hückel parameters, z is the ionic charge, and I is the ionic strength."
   ]
  },
  {
   "cell_type": "code",
   "execution_count": 12,
   "id": "a6852595",
   "metadata": {},
   "outputs": [
    {
     "name": "stdout",
     "output_type": "stream",
     "text": [
      "Activity of Ca++: 0.0004303391591638762\n",
      "Activity of Mg++: 9.475357632966083e-05\n",
      "Activity of Na+: 5.215331926046198\n",
      "Activity of K+: 0.2986557598676028\n",
      "Activity of HCO3-: 8.157314038174821\n",
      "Activity of SO4=: 238.0\n",
      "Activity of Cl-: 171.0\n",
      "Activity of SiO2: 30.0\n"
     ]
    }
   ],
   "source": [
    "import math\n",
    "\n",
    "# Concentrations (mg/L)\n",
    "concentrations = {\n",
    "    'Ca++': 109,\n",
    "    'Mg++': 24,\n",
    "    'Na+': 117,\n",
    "    'K+': 6.7,\n",
    "    'HCO3-': 183,\n",
    "    'SO4=': 238,\n",
    "    'Cl-': 171,\n",
    "    'SiO2': 30\n",
    "}\n",
    "\n",
    "# Ionic charges\n",
    "ionic_charges = {\n",
    "    'Ca++': 2,\n",
    "    'Mg++': 2,\n",
    "    'Na+': 1,\n",
    "    'K+': 1,\n",
    "    'HCO3-': -1\n",
    "}\n",
    "\n",
    "# Ionic strength calculation\n",
    "ionic_strength = 0.5 * sum(concentration * (ionic_charges.get(species, 0) ** 2) for species, concentration in concentrations.items())\n",
    "\n",
    "# Debye-Hückel parameters\n",
    "A = 0.5092\n",
    "B = 0.3281\n",
    "\n",
    "# Calculate activities\n",
    "activities = {}\n",
    "for species, concentration in concentrations.items():\n",
    "    ionic_charge = ionic_charges.get(species, 0)\n",
    "    activity_coefficient = 10 ** (-A * (ionic_charge ** 2) * math.sqrt(ionic_strength) / (1 + B * math.sqrt(ionic_strength)))\n",
    "    activity = concentration * activity_coefficient\n",
    "    activities[species] = activity\n",
    "\n",
    "# Display the results\n",
    "for species, activity in activities.items():\n",
    "    print(f\"Activity of {species}: {activity}\")\n"
   ]
  },
  {
   "cell_type": "code",
   "execution_count": null,
   "id": "5f536846",
   "metadata": {},
   "outputs": [],
   "source": []
  }
 ],
 "metadata": {
  "kernelspec": {
   "display_name": "Python 3 (ipykernel)",
   "language": "python",
   "name": "python3"
  },
  "language_info": {
   "codemirror_mode": {
    "name": "ipython",
    "version": 3
   },
   "file_extension": ".py",
   "mimetype": "text/x-python",
   "name": "python",
   "nbconvert_exporter": "python",
   "pygments_lexer": "ipython3",
   "version": "3.9.13"
  }
 },
 "nbformat": 4,
 "nbformat_minor": 5
}
