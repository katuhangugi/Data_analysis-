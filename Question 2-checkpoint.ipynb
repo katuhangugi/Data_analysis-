{
 "cells": [
  {
   "cell_type": "code",
   "execution_count": 2,
   "id": "f3b815d7",
   "metadata": {},
   "outputs": [
    {
     "name": "stdout",
     "output_type": "stream",
     "text": [
      "   UserID  ProfileID  Seconds\n",
      "0       1          3    33.73\n",
      "1       2          2    27.81\n",
      "2       3          1    44.54\n",
      "3       4          2    39.28\n",
      "4       5          2    30.37\n"
     ]
    }
   ],
   "source": [
    "import pandas as pd\n",
    "\n",
    "# Load the dataset\n",
    "dataset_path = r'C:\\Users\\This PC\\Downloads\\MKTG6018_final_assessment\\question_2.csv'\n",
    "df = pd.read_csv(dataset_path)\n",
    "\n",
    "# Display the first few rows of the dataset\n",
    "print(df.head())\n"
   ]
  },
  {
   "cell_type": "code",
   "execution_count": 5,
   "id": "5478d110",
   "metadata": {},
   "outputs": [
    {
     "name": "stdout",
     "output_type": "stream",
     "text": [
      "Profile 1 vs. Profile 2: t-statistic = 3.1969233158721884 p-value = 0.0019301177070183294\n",
      "Profile 1 vs. Profile 3: t-statistic = 0.6692843830883349 p-value = 0.5050662633693142\n",
      "Profile 2 vs. Profile 3: t-statistic = -2.387933753497758 p-value = 0.018987603398156385\n"
     ]
    }
   ],
   "source": [
    "import scipy.stats as stats\n",
    "\n",
    "# Perform pairwise t-tests between profile groups\n",
    "profile_1_data = df[df['ProfileID'] == 1]['Seconds']\n",
    "profile_2_data = df[df['ProfileID'] == 2]['Seconds']\n",
    "profile_3_data = df[df['ProfileID'] == 3]['Seconds']\n",
    "\n",
    "# Perform t-tests between the profile groups\n",
    "t_statistic_1_vs_2, p_value_1_vs_2 = stats.ttest_ind(profile_1_data, profile_2_data)\n",
    "t_statistic_1_vs_3, p_value_1_vs_3 = stats.ttest_ind(profile_1_data, profile_3_data)\n",
    "t_statistic_2_vs_3, p_value_2_vs_3 = stats.ttest_ind(profile_2_data, profile_3_data)\n",
    "\n",
    "# Print the t-statistics and p-values\n",
    "print(\"Profile 1 vs. Profile 2: t-statistic =\", t_statistic_1_vs_2, \"p-value =\", p_value_1_vs_2)\n",
    "print(\"Profile 1 vs. Profile 3: t-statistic =\", t_statistic_1_vs_3, \"p-value =\", p_value_1_vs_3)\n",
    "print(\"Profile 2 vs. Profile 3: t-statistic =\", t_statistic_2_vs_3, \"p-value =\", p_value_2_vs_3)\n"
   ]
  },
  {
   "cell_type": "code",
   "execution_count": null,
   "id": "e4dfee0b",
   "metadata": {},
   "outputs": [],
   "source": []
  }
 ],
 "metadata": {
  "kernelspec": {
   "display_name": "Python 3 (ipykernel)",
   "language": "python",
   "name": "python3"
  },
  "language_info": {
   "codemirror_mode": {
    "name": "ipython",
    "version": 3
   },
   "file_extension": ".py",
   "mimetype": "text/x-python",
   "name": "python",
   "nbconvert_exporter": "python",
   "pygments_lexer": "ipython3",
   "version": "3.9.13"
  }
 },
 "nbformat": 4,
 "nbformat_minor": 5
}
