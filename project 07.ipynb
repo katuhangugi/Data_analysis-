{
 "cells": [
  {
   "cell_type": "code",
   "execution_count": 3,
   "id": "0718e5ab-3016-4745-9697-2c8f3256a1e3",
   "metadata": {},
   "outputs": [
    {
     "name": "stdout",
     "output_type": "stream",
     "text": [
      "tensor([[1., 1., 1., 1.],\n",
      "        [1., 2., 2., 1.],\n",
      "        [1., 2., 2., 1.],\n",
      "        [1., 1., 1., 1.]])\n"
     ]
    }
   ],
   "source": [
    "import torch\n",
    "\n",
    "# Create a 4x4 matrix of float32 with all elements as 1\n",
    "tensor = torch.ones((4, 4), dtype=torch.float32)\n",
    "\n",
    "# Modify the middle 2x2 matrices to 2\n",
    "tensor[1:3, 1:3] = 2\n",
    "\n",
    "print(tensor)\n"
   ]
  },
  {
   "cell_type": "code",
   "execution_count": 4,
   "id": "6fa470c2-643c-4669-b226-66abe13d1aa1",
   "metadata": {},
   "outputs": [
    {
     "name": "stdout",
     "output_type": "stream",
     "text": [
      "tensor([4.])\n"
     ]
    }
   ],
   "source": [
    "import torch\n",
    "from torch.autograd import Variable\n",
    "\n",
    "# Define the function y = x^2\n",
    "x = Variable(torch.FloatTensor([2]), requires_grad=True)\n",
    "y = x**2\n",
    "\n",
    "# Compute the derivative\n",
    "y.backward()\n",
    "\n",
    "# Print the derivative\n",
    "print(x.grad)\n"
   ]
  },
  {
   "cell_type": "code",
   "execution_count": 5,
   "id": "e9b18fcf-ffc4-4092-95f6-8357c6e6d5f0",
   "metadata": {},
   "outputs": [
    {
     "name": "stdout",
     "output_type": "stream",
     "text": [
      "tensor([[4., 3.],\n",
      "        [2., 6.]])\n"
     ]
    }
   ],
   "source": [
    "import torch\n",
    "from torch.autograd import Variable\n",
    "\n",
    "# Define the variables\n",
    "x = Variable(torch.FloatTensor([2, 3]), requires_grad=True)\n",
    "\n",
    "# Define k\n",
    "k0 = x[0]**2 + 3*x[1]\n",
    "k1 = 2*x[0] + x[1]**2\n",
    "k = torch.stack([k0, k1])\n",
    "\n",
    "# Compute the derivative\n",
    "k.backward(torch.FloatTensor([1, 0]), retain_graph=True)\n",
    "dk_dx0 = x.grad.clone()\n",
    "x.grad.data.zero_()\n",
    "\n",
    "k.backward(torch.FloatTensor([0, 1]))\n",
    "dk_dx1 = x.grad.clone()\n",
    "\n",
    "print(torch.stack([dk_dx0, dk_dx1]))\n"
   ]
  },
  {
   "cell_type": "code",
   "execution_count": 9,
   "id": "e94880bd-46cd-438e-968d-bda818177312",
   "metadata": {},
   "outputs": [
    {
     "name": "stdout",
     "output_type": "stream",
     "text": [
      "fc1.weight: Parameter containing:\n",
      "tensor([[-0.1172,  0.1092,  0.0051,  0.0197,  0.0835, -0.2558, -0.2546, -0.0309,\n",
      "          0.0943,  0.2141],\n",
      "        [-0.0939,  0.2544,  0.1506, -0.1021,  0.0011,  0.0535, -0.2276, -0.0352,\n",
      "         -0.1310, -0.2430],\n",
      "        [ 0.1506, -0.1586, -0.0053,  0.0879,  0.1100,  0.1401, -0.1329,  0.0701,\n",
      "          0.1184,  0.1247],\n",
      "        [-0.1298,  0.1764, -0.1493, -0.1658, -0.0722,  0.1130, -0.1446,  0.2056,\n",
      "          0.0876,  0.0104],\n",
      "        [-0.0113, -0.1321,  0.2575,  0.1681,  0.1869,  0.2474,  0.1777,  0.1096,\n",
      "          0.0029,  0.1148],\n",
      "        [-0.0395,  0.2361, -0.0679, -0.0034, -0.0159,  0.0711, -0.2272,  0.0170,\n",
      "          0.1472, -0.0330],\n",
      "        [-0.1539,  0.0893,  0.1744,  0.2548,  0.2264, -0.1973,  0.2451,  0.2243,\n",
      "         -0.0203,  0.2563],\n",
      "        [-0.1810,  0.2514, -0.0121, -0.2149, -0.2138, -0.1085,  0.1862,  0.0176,\n",
      "          0.1989, -0.2384],\n",
      "        [-0.0481,  0.0612, -0.0564,  0.0538, -0.1855, -0.0162,  0.0287,  0.0776,\n",
      "          0.1733,  0.1365],\n",
      "        [ 0.0619,  0.1913, -0.0125, -0.2202, -0.0055,  0.2259,  0.1360, -0.1220,\n",
      "         -0.0807,  0.1399],\n",
      "        [ 0.1091,  0.2524,  0.1672,  0.1219, -0.0481, -0.0649, -0.1499, -0.1770,\n",
      "         -0.2494, -0.1266],\n",
      "        [ 0.0881, -0.0903, -0.1026,  0.2502,  0.0415, -0.1910,  0.2430,  0.0772,\n",
      "          0.2262, -0.0611],\n",
      "        [ 0.1571,  0.2169, -0.0182,  0.2368, -0.0090, -0.0219, -0.1433, -0.0062,\n",
      "         -0.0650, -0.2573],\n",
      "        [ 0.2577, -0.1548,  0.1212,  0.0272,  0.2081,  0.0537,  0.0372,  0.0182,\n",
      "          0.1379,  0.1326],\n",
      "        [ 0.1618, -0.0616,  0.1648, -0.2503, -0.0656, -0.1922, -0.0534,  0.0102,\n",
      "         -0.0558,  0.0260],\n",
      "        [ 0.1696, -0.1579,  0.0202,  0.2473, -0.1719, -0.1046,  0.2243,  0.2273,\n",
      "          0.1185,  0.0310],\n",
      "        [ 0.1360,  0.0589,  0.1210, -0.2229, -0.2332, -0.1063,  0.0137, -0.2140,\n",
      "          0.2167, -0.1879],\n",
      "        [-0.2290,  0.1586, -0.1520,  0.1414,  0.2464,  0.0266,  0.1264,  0.1088,\n",
      "         -0.0188, -0.0332],\n",
      "        [ 0.2306, -0.1634,  0.2137, -0.1922,  0.2073,  0.0585, -0.2434,  0.2577,\n",
      "          0.1024,  0.0410],\n",
      "        [ 0.2515,  0.0767, -0.0110,  0.1612, -0.0429,  0.2566,  0.1934, -0.1492,\n",
      "         -0.0344, -0.0894]], requires_grad=True)\n",
      "fc1.bias: Parameter containing:\n",
      "tensor([0., 0., 0., 0., 0., 0., 0., 0., 0., 0., 0., 0., 0., 0., 0., 0., 0., 0., 0., 0.],\n",
      "       requires_grad=True)\n",
      "fc2.weight: Parameter containing:\n",
      "tensor([[ 0.2802,  0.1462,  0.2572, -0.1432,  0.0596, -0.1078,  0.0936,  0.0769,\n",
      "         -0.1796,  0.0165,  0.1528, -0.2110,  0.2089,  0.0310, -0.1627, -0.2484,\n",
      "          0.1692, -0.0280,  0.2180,  0.2623],\n",
      "        [-0.1229, -0.2310, -0.0806, -0.2403,  0.1372, -0.1139, -0.0575,  0.2224,\n",
      "          0.0675, -0.1500,  0.2009, -0.1323,  0.0483, -0.0557, -0.0623, -0.0090,\n",
      "         -0.0561,  0.0749, -0.2389,  0.0240],\n",
      "        [ 0.0959, -0.1606, -0.1675,  0.1993, -0.0075, -0.2139,  0.2364,  0.0857,\n",
      "         -0.1244,  0.1879,  0.1407,  0.0581, -0.1822, -0.0735, -0.1902,  0.2095,\n",
      "         -0.2291, -0.1950, -0.2590, -0.0367],\n",
      "        [-0.1529,  0.1240,  0.2823, -0.0707, -0.1444, -0.0308,  0.1811, -0.1655,\n",
      "          0.2714,  0.2721,  0.1823, -0.2313,  0.0330,  0.2658, -0.2299,  0.0131,\n",
      "          0.2755, -0.0680, -0.0691, -0.0358],\n",
      "        [ 0.1154,  0.0073, -0.0147,  0.1081, -0.0639,  0.2214,  0.1516,  0.2412,\n",
      "          0.1877, -0.0930, -0.2226,  0.0107,  0.2657,  0.0902, -0.1190,  0.0090,\n",
      "         -0.2032, -0.1646,  0.0021, -0.0449]], requires_grad=True)\n",
      "fc2.bias: Parameter containing:\n",
      "tensor([0., 0., 0., 0., 0.], requires_grad=True)\n"
     ]
    }
   ],
   "source": [
    "import torch.nn as nn\n",
    "import torch.nn.init as init\n",
    "\n",
    "def xavier_init(layer):\n",
    "    if isinstance(layer, nn.Linear):\n",
    "        size_in, size_out = layer.weight.size()\n",
    "        xavier_stddev = 1. / torch.sqrt(torch.Tensor([size_in + size_out]) / 2.)\n",
    "        init.uniform_(layer.weight, -xavier_stddev.item(), xavier_stddev.item())\n",
    "        init.constant_(layer.bias, 0)\n",
    "\n",
    "# Example usage in a neural network model\n",
    "class MyModel(nn.Module):\n",
    "    def __init__(self, input_size, hidden_size, output_size):\n",
    "        super(MyModel, self).__init__()\n",
    "        self.fc1 = nn.Linear(in_features=input_size, out_features=hidden_size)\n",
    "        self.fc2 = nn.Linear(in_features=hidden_size, out_features=output_size)\n",
    "        # Call the xavier_init function for each linear layer\n",
    "        xavier_init(self.fc1)\n",
    "        xavier_init(self.fc2)\n",
    "\n",
    "# Instantiate the model with your specific input, hidden, and output sizes\n",
    "input_size = 10  # Replace with your input size\n",
    "hidden_size = 20  # Replace with your hidden layer size\n",
    "output_size = 5   # Replace with your output size\n",
    "model = MyModel(input_size, hidden_size, output_size)\n",
    "# Print initialized weights and biases\n",
    "for name, param in model.named_parameters():\n",
    "    print(f\"{name}: {param}\")"
   ]
  },
  {
   "cell_type": "code",
   "execution_count": null,
   "id": "7b5c301e-ae85-40d3-bb62-ce7b04f17037",
   "metadata": {},
   "outputs": [],
   "source": []
  }
 ],
 "metadata": {
  "kernelspec": {
   "display_name": "Python 3 (ipykernel)",
   "language": "python",
   "name": "python3"
  },
  "language_info": {
   "codemirror_mode": {
    "name": "ipython",
    "version": 3
   },
   "file_extension": ".py",
   "mimetype": "text/x-python",
   "name": "python",
   "nbconvert_exporter": "python",
   "pygments_lexer": "ipython3",
   "version": "3.11.5"
  }
 },
 "nbformat": 4,
 "nbformat_minor": 5
}
