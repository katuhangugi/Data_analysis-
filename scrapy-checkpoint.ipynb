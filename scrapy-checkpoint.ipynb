{
 "cells": [
  {
   "cell_type": "code",
   "execution_count": 1,
   "id": "07fbd1d4",
   "metadata": {},
   "outputs": [],
   "source": []
  },
  {
   "cell_type": "code",
   "execution_count": 2,
   "id": "5e304be1",
   "metadata": {},
   "outputs": [],
   "source": [
    "import scrapy\n",
    "\n",
    "class GovSpider(scrapy.Spider):\n",
    "    name = \"gov_spider\"\n",
    "    start_urls = [\n",
    "        'https://www.gov.cn/english/'\n",
    "    ]\n",
    "\n",
    "    def parse(self, response):\n",
    "        # Extract relevant information from the webpage\n",
    "        # Modify the XPath or CSS selectors based on the specific data you want to extract\n",
    "        title = response.css('.article-list .article-title a::text').get()\n",
    "        date = response.css('.article-list .article-date::text').get()\n",
    "\n",
    "        # Store the extracted information or perform any desired processing\n",
    "        # Here, we will simply print the title and date\n",
    "        if title and date:\n",
    "            print(\"Title:\", title)\n",
    "            print(\"Date:\", date)\n",
    "            print(\"---\")\n",
    "\n",
    "        # Follow links to other pages for further crawling\n",
    "        next_page_links = response.css('.pagination .next-page a::attr(href)').getall()\n",
    "        for next_page_link in next_page_links:\n",
    "            yield response.follow(next_page_link, self.parse)\n"
   ]
  },
  {
   "cell_type": "code",
   "execution_count": null,
   "id": "a936c6db",
   "metadata": {},
   "outputs": [],
   "source": []
  }
 ],
 "metadata": {
  "kernelspec": {
   "display_name": "Python 3 (ipykernel)",
   "language": "python",
   "name": "python3"
  },
  "language_info": {
   "codemirror_mode": {
    "name": "ipython",
    "version": 3
   },
   "file_extension": ".py",
   "mimetype": "text/x-python",
   "name": "python",
   "nbconvert_exporter": "python",
   "pygments_lexer": "ipython3",
   "version": "3.9.13"
  }
 },
 "nbformat": 4,
 "nbformat_minor": 5
}
