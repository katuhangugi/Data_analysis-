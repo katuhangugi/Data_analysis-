{
 "cells": [
  {
   "cell_type": "code",
   "execution_count": null,
   "id": "eed03940",
   "metadata": {},
   "outputs": [],
   "source": [
    "import time\n",
    "import pandas as pd\n",
    "from itertools import islice"
   ]
  },
  {
   "cell_type": "code",
   "execution_count": null,
   "id": "0d73e88e",
   "metadata": {},
   "outputs": [],
   "source": [
    "from google.cloud import storage"
   ]
  },
  {
   "cell_type": "code",
   "execution_count": null,
   "id": "2feb3907",
   "metadata": {},
   "outputs": [],
   "source": [
    "# List all files in given COS directory\n",
    "def list_blobs(bucket_name, folder_name):\n",
    "    gcs_client = storage.Client()\n",
    "    bucket = gcs_client.bucket(bucket_name)\n",
    "    blobs = list(bucket.list_blobs(prefix=folder_name))\n",
    "\n",
    "    for blob in blobs:\n",
    "        print(blob.name + '\\t' + str(blob.size))"
   ]
  },
  {
   "cell_type": "code",
   "execution_count": null,
   "id": "d2d77d38",
   "metadata": {},
   "outputs": [],
   "source": [
    "# List all files in given COS directory\n",
    "def list_blobs_pd(bucket_name, folder_name):\n",
    "    gcs_client = storage.Client()\n",
    "    bucket = gcs_client.bucket(bucket_name)\n",
    "    blobs = list(bucket.list_blobs(prefix=folder_name))\n",
    "\n",
    "    blob_name = []\n",
    "    blob_size = []\n",
    "    \n",
    "    for blob in blobs:\n",
    "        blob_name.append(blob.name)\n",
    "        blob_size.append(blob.size)\n",
    "\n",
    "    blobs_df = pd.DataFrame(list(zip(blob_name, blob_size)), columns=['Name','Size'])\n",
    "\n",
    "    blobs_df = blobs_df.style.format({\"Size\": \"{:,.0f}\"}) \n",
    "    \n",
    "    return blobs_df"
   ]
  },
  {
   "cell_type": "code",
   "execution_count": null,
   "id": "ae7dba1b",
   "metadata": {},
   "outputs": [],
   "source": [
    "# Delete folder from COS bucket\n",
    "def delete_folder(bucket_name, folder_name):\n",
    "    gcs_client = storage.Client()\n",
    "    bucket = gcs_client.bucket(bucket_name)\n",
    "    blobs = list(bucket.list_blobs(prefix=folder_name))\n",
    "\n",
    "    for blob in blobs:\n",
    "        blob.delete()"
   ]
  },
  {
   "cell_type": "code",
   "execution_count": null,
   "id": "f4b679c5",
   "metadata": {},
   "outputs": [],
   "source": [
    "# Reading data from open bucket, avaible to all students\n",
    "bucket_read = 'msca-bdp-tweets'\n",
    "\n",
    "# Saving results into individual bucket, students must update to their own bucket `msca-bdp-students-bucket` and use `CNET ID` as a folder prefix\n",
    "bucket_write = 'msca-bdp-tweets'\n",
    "from pyspark.sql import SparkSession\n",
    "\n",
    "spark = SparkSession.builder \\\n",
    "    .appName(\"Twitter Data Analysis\") \\\n",
    "    .getOrCreate()"
   ]
  },
  {
   "cell_type": "code",
   "execution_count": null,
   "id": "9f7cf820",
   "metadata": {},
   "outputs": [],
   "source": [
    "# Load the raw data\n",
    "df = spark.read.json(\"gs://msca-bdp-tweets/final_project/*.json\")\n",
    "\n",
    "# Descriptive statistics\n",
    "df.describe().show()"
   ]
  },
  {
   "cell_type": "code",
   "execution_count": null,
   "id": "181fc7bc",
   "metadata": {},
   "outputs": [],
   "source": [
    "%%time\n",
    "\n",
    "!hadoop fs -ls \"gs://msca-bdp-tweets/final_project\""
   ]
  },
  {
   "cell_type": "code",
   "execution_count": null,
   "id": "207896c3",
   "metadata": {},
   "outputs": [],
   "source": [
    "from pyspark.sql.functions import col\n",
    "\n",
    "# Filter out irrelevant tweets to focus on those directly related to primary, secondary, or higher education\n",
    "relevant_keywords = [\"education\", \"school\", \"university\", \"learning\", \"knowledge\"]\n",
    "df_filtered = df.filter(col(\"text\").isin(relevant_keywords))\n",
    "\n",
    "# Perform exploratory data analysis (EDA) to identify relevant variables for profiling Twitter users\n",
    "relevant_columns = [\"user\", \"text\", \"retweet_count\", \"favorite_count\", \"created_at\"]\n",
    "\n",
    "# Continue with the rest of the code for visualization...\n"
   ]
  },
  {
   "cell_type": "code",
   "execution_count": null,
   "id": "af0c1fa8",
   "metadata": {},
   "outputs": [],
   "source": [
    "import matplotlib.pyplot as plt\n",
    "import seaborn as sns\n",
    "\n",
    "# Visualize the distribution of tweet counts by user\n",
    "tweet_counts = df_filtered.groupBy('user').count().select('count').rdd.flatMap(lambda x: x).collect()\n",
    "plt.figure(figsize=(10, 6))\n",
    "sns.histplot(tweet_counts, bins=20, kde=True)\n",
    "plt.xlabel('Number of Tweets')\n",
    "plt.ylabel('Count')\n",
    "plt.title('Distribution of Tweet Counts by User')\n",
    "plt.show()\n",
    "\n",
    "# Visualize the geographical distribution of Twitter users\n",
    "user_locations = df_filtered.groupBy('user').agg({'user_location': 'first'}).toPandas()\n",
    "plt.figure(figsize=(10, 6))\n",
    "sns.countplot(y=user_locations['user_location'], order=user_locations['user_location'].value_counts().index[:10])\n",
    "plt.xlabel('Count')\n",
    "plt.ylabel('User Location')\n",
    "plt.title('Top 10 User Locations')\n",
    "plt.show()\n"
   ]
  }
 ],
 "metadata": {
  "kernelspec": {
   "display_name": "Python 3 (ipykernel)",
   "language": "python",
   "name": "python3"
  },
  "language_info": {
   "codemirror_mode": {
    "name": "ipython",
    "version": 3
   },
   "file_extension": ".py",
   "mimetype": "text/x-python",
   "name": "python",
   "nbconvert_exporter": "python",
   "pygments_lexer": "ipython3",
   "version": "3.9.13"
  }
 },
 "nbformat": 4,
 "nbformat_minor": 5
}
