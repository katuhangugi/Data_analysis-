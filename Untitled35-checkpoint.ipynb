{
 "cells": [
  {
   "cell_type": "code",
   "execution_count": 1,
   "id": "36f7d612",
   "metadata": {},
   "outputs": [],
   "source": [
    "def test_search_logic():\n",
    "    test_input = [\n",
    "        \"enron_search term search the The THE money enron_search term search MONEY the monEY enron_search term search the money\",\n",
    "        \"enron_search term search them\",\n",
    "        \"enron_search term search money\",\n",
    "        \"enron_search term search the\"\n",
    "    ]\n",
    "\n",
    "    expected_outputs = [\n",
    "        \"Total results found: 2\\n1. The\\n2. Money\",\n",
    "        \"Total results found: 0\",\n",
    "        \"Total results found: 1\\n1. Money\",\n",
    "        \"Total results found: 1\\n1. The\"\n",
    "    ]\n",
    "\n",
    "    for i, input_str in enumerate(test_input):\n",
    "        expected_output = expected_outputs[i]\n",
    "        actual_output = search_logic(input_str)\n",
    "        assert actual_output == expected_output, f\"Test case {i+1} failed. Expected '{expected_output}', but got '{actual_output}'.\""
   ]
  },
  {
   "cell_type": "code",
   "execution_count": null,
   "id": "b3accef9",
   "metadata": {},
   "outputs": [],
   "source": []
  },
  {
   "cell_type": "code",
   "execution_count": null,
   "id": "5cd6a5e1",
   "metadata": {},
   "outputs": [],
   "source": []
  }
 ],
 "metadata": {
  "kernelspec": {
   "display_name": "Python 3 (ipykernel)",
   "language": "python",
   "name": "python3"
  },
  "language_info": {
   "codemirror_mode": {
    "name": "ipython",
    "version": 3
   },
   "file_extension": ".py",
   "mimetype": "text/x-python",
   "name": "python",
   "nbconvert_exporter": "python",
   "pygments_lexer": "ipython3",
   "version": "3.9.13"
  }
 },
 "nbformat": 4,
 "nbformat_minor": 5
}
