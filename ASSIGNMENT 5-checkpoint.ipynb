{
 "cells": [
  {
   "cell_type": "markdown",
   "id": "05427677",
   "metadata": {},
   "source": [
    "# Influence of photosynthesis on pH"
   ]
  },
  {
   "cell_type": "markdown",
   "id": "178e0c6f",
   "metadata": {},
   "source": [
    "The balanced reaction for the formation of algal biomass using the specified species can be written as:\n",
    "\n",
    "106 (NH3) + 16 H3PO4 + 122 H2O + 106 CO2 → (CH2O)106 + 16 H3PO4\n",
    "\n",
    "To determine the number of moles of nitrate and hydrogen phosphate required for the growth of 3 mg/L of algal biomass, we need the molecular weights of NH3 and H3PO4.\n",
    "\n",
    "Molecular weight of NH3 = 14.01 g/mol\n",
    "Molecular weight of H3PO4 = 97.99 g/mol\n",
    "\n",
    "Given that the algal biomass concentration is 3 mg/L, we can convert it to moles:\n",
    "\n",
    "3 mg/L × (1 g/1000 mg) × (1 mol/molecular weight of (CH2O)106)\n",
    "\n",
    "Now, we can use the stoichiometry of the balanced reaction to determine the moles of nitrate and hydrogen phosphate required. From the reaction, we can see that 106 moles of NH3 and 16 moles of H3PO4 are required to form 1 mole of (CH2O)106.\n",
    "\n",
    "Therefore, the number of moles of nitrate and hydrogen phosphate required for the growth of algal biomass is:\n",
    "\n",
    "Nitrate: 106 × (3 mg/L × (1 g/1000 mg) × (1 mol/molecular weight of (CH2O)106))\n",
    "Hydrogen phosphate: 16 × (3 mg/L × (1 g/1000 mg) × (1 mol/molecular weight of (CH2O)106))\n",
    "\n",
    "Now, let's establish a literal expression to determine the pH from CT and pCO2(g). The expression uses the Henderson-Hasselbalch equation, which relates the concentration of a weak acid or base (in this case, dissolved carbon dioxide) to its dissociation constant and the pH:\n",
    "\n",
    "pH = pKa + log10([A-]/[HA])\n",
    "\n",
    "In this case, we are interested in the pH of the water, which is determined by the concentration of H+ ions. The expression can be rewritten as:\n",
    "\n",
    "[H+] = 10^(-pH)\n",
    "\n",
    "Now, let's compute the pH of the surface waters before the beginning of the day, i.e., before any algal growth takes place. We are given CT = 2.2 × 10^(-3) M and pCO2(g) = 470 μatm.\n",
    "\n",
    "To determine the pH, we need to calculate the concentration of dissolved carbon dioxide ([CO2(aq)]) in the water. This can be done using Henry's Law, which states that the concentration of dissolved gas is proportional to its partial pressure:\n",
    "\n",
    "[CO2(aq)] = Henry's constant × pCO2(g)\n",
    "\n",
    "Given that Henry's constant for carbon dioxide is approximately 1.7 × 10^(-3) M/atm, we can substitute the values:\n",
    "\n",
    "[CO2(aq)] = (1.7 × 10^(-3) M/atm) × (470 μatm)\n",
    "\n",
    "Now, we can use the expression derived from the Henderson-Hasselbalch equation to compute the pH:\n",
    "\n",
    "pH = -log10([H+]) = -log10([H+]) = -log10([CO2(aq)]/CT) = -log10([(1.7 × 10^(-3) M/atm) × (470 μatm)]/2.2 × 10^(-3) M)\n",
    "\n",
    "Calculate the numerical value of the pH using the given values and equations.\n",
    "\n",
    "To determine the pH at the end of the day, after algal growth occurs, we need to consider the change in CO2 concentration due to photosynthesis. Assuming no exchange with the atmosphere during photosynthesis, the concentration of CO2 will decrease. However, the change in pH cannot be determined without additional information about the system."
   ]
  },
  {
   "cell_type": "code",
   "execution_count": 1,
   "id": "4b40be19",
   "metadata": {},
   "outputs": [
    {
     "name": "stdout",
     "output_type": "stream",
     "text": [
      "pH before algal growth: -2.560124098491785\n",
      "pCO2 at equilibrium after algal growth: 469.9580231712095\n",
      "pH after algal growth (no atmospheric exchange): -2.5600853088763467\n",
      "pH after re-equilibration with the atmosphere during the night: -2.560124098491785\n"
     ]
    }
   ],
   "source": [
    "import math\n",
    "\n",
    "# Constants and given values\n",
    "molecular_weight_CH2O = 12.01 * 2 + 1.01 * 2 + 16.00\n",
    "molecular_weight_NH3 = 14.01\n",
    "molecular_weight_H3PO4 = 1.01 * 3 + 31.00 + 16.00 * 4\n",
    "algal_biomass_concentration = 3  # mg/L\n",
    "CT = 2.2 * 10**(-3)  # M\n",
    "pCO2 = 470  # μatm\n",
    "Henry_constant_CO2 = 1.7 * 10**(-3)  # M/atm\n",
    "\n",
    "# Calculate moles of nitrate and hydrogen phosphate required for algal biomass growth\n",
    "moles_CH2O = algal_biomass_concentration * 10**(-3) / molecular_weight_CH2O\n",
    "moles_NH3 = 106 * moles_CH2O\n",
    "moles_H3PO4 = 16 * moles_CH2O\n",
    "\n",
    "# Calculate pH before algal growth\n",
    "CO2_aq = Henry_constant_CO2 * pCO2\n",
    "pH = -math.log10((CO2_aq / CT))\n",
    "print(\"pH before algal growth:\", pH)\n",
    "\n",
    "# Calculate pCO2 at equilibrium with the waters after algal growth\n",
    "delta_moles_CO2 = moles_CH2O\n",
    "CO2_aq_eq = CO2_aq - delta_moles_CO2\n",
    "pCO2_eq = CO2_aq_eq / Henry_constant_CO2\n",
    "print(\"pCO2 at equilibrium after algal growth:\", pCO2_eq)\n",
    "\n",
    "# Calculate pH after algal growth without atmospheric exchange\n",
    "pH_no_exchange = -math.log10((CO2_aq_eq / CT))\n",
    "print(\"pH after algal growth (no atmospheric exchange):\", pH_no_exchange)\n",
    "\n",
    "# Calculate pH after re-equilibration with the atmosphere during the night\n",
    "pCO2_night = 470  # μatm\n",
    "CO2_aq_night = Henry_constant_CO2 * pCO2_night\n",
    "pH_night = -math.log10((CO2_aq_night / CT))\n",
    "print(\"pH after re-equilibration with the atmosphere during the night:\", pH_night)\n"
   ]
  },
  {
   "cell_type": "markdown",
   "id": "392ba694",
   "metadata": {},
   "source": [
    "# question 1"
   ]
  },
  {
   "cell_type": "markdown",
   "id": "87463c6a",
   "metadata": {},
   "source": [
    "To estimate the total/titration alkalinity of the Azufre river water, we need to consider its chemical composition and the available information. From the given data, we know that the Azufre river carries little carbonate alkalinity. Total alkalinity (TA) represents the sum of all titratable bases in the water, including bicarbonate (HCO3-), carbonate (CO32-), hydroxide (OH-), and other bases present. Since the Azufre river carries little carbonate alkalinity, we can assume that the majority of the alkalinity is due to other bases, such as hydroxides.\n",
    "\n",
    "However, since the specific concentrations of other bases are not provided in the given data, we cannot accurately calculate the total/titration alkalinity of the Azufre river water. Without the individual concentrations of hydroxides or other bases, we cannot estimate the total alkalinity. Regarding the assumption that the Azufre river water is at equilibrium with a pCO2(g) of 350 μatm, we can use the Henderson-Hasselbalch equation to estimate the bicarbonate (HCO3-) concentration.\n",
    "\n",
    "[HCO3-] = K × [CO2(aq)]\n",
    "\n",
    "where K is the carbonic acid dissociation constant at the given temperature and pressure.\n",
    "\n",
    "Given that [H2CO3] = 10^(-5) M and pH = 6.5, we can calculate the pCO2(aq) using the Henderson-Hasselbalch equation:\n",
    "\n",
    "[H+] = 10^(-pH)\n",
    "\n",
    "[HCO3-] = [H2CO3]\n",
    "\n",
    "K = [H+][HCO3-] / [H2CO3]\n",
    "\n",
    "pCO2(aq) = K / [HCO3-]\n",
    "\n",
    "Now, we can estimate the bicarbonate concentration [HCO3-] using the estimated pCO2(aq) and the given pCO2(g) of 350 μatm:\n",
    "\n",
    "[HCO3-] = pCO2(aq) / (Henry's constant for CO2 at the given temperature)"
   ]
  },
  {
   "cell_type": "code",
   "execution_count": 4,
   "id": "df7894c4",
   "metadata": {},
   "outputs": [
    {
     "name": "stdout",
     "output_type": "stream",
     "text": [
      "Estimated bicarbonate concentration [HCO3-]: 1.0942137232416538e-06\n"
     ]
    }
   ],
   "source": [
    "import math\n",
    "\n",
    "# Constants and given values\n",
    "pH = 6.5\n",
    "H2CO3 = 10**(-5)  # M\n",
    "pCO2_g = 350  # μatm\n",
    "Henry_constant_CO2 = 1.7 * 10**(-3)  # M/atm\n",
    "\n",
    "# Calculate pCO2(aq)\n",
    "H_plus = 10**(-pH)\n",
    "K = H_plus * H2CO3\n",
    "pCO2_aq = K / Henry_constant_CO2\n",
    "\n",
    "# Calculate bicarbonate concentration [HCO3-]\n",
    "HCO3_minus = pCO2_aq / Henry_constant_CO2\n",
    "\n",
    "print(\"Estimated bicarbonate concentration [HCO3-]:\", HCO3_minus)\n"
   ]
  },
  {
   "cell_type": "markdown",
   "id": "938ae297",
   "metadata": {},
   "source": [
    "# Question 2\n"
   ]
  },
  {
   "cell_type": "markdown",
   "id": "88465c13",
   "metadata": {},
   "source": [
    "To determine the final pHs in the two extreme cases after complete mixing, we need to consider the chemical composition of each river and their mixing ratios.\n",
    "Let's assume pH_Azufre and pH_Caracarani represent the initial pH values of the Azufre and Caracarani rivers, respectively. In the first extreme case, where the mixing ratio (R) is 0.2 (meaning 20% Azufre river and 80% Caracarani river), we can calculate the final pH using the following formula:\n",
    "\n",
    "pH_final_1 = (R * pH_Azufre) + ((1 - R) * pH_Caracarani)\n",
    "\n",
    "In the second extreme case, where the mixing ratio (R) is 0.5 (meaning equal parts of Azufre and Caracarani rivers), we can calculate the final pH using the same formula:\n",
    "\n",
    "pH_final_2 = (R * pH_Azufre) + ((1 - R) * pH_Caracarani)\n",
    "\n",
    "Now, substitute the appropriate values of pH_Azufre and pH_Caracarani into the formulas to calculate the final pH values in the two extreme cases."
   ]
  },
  {
   "cell_type": "code",
   "execution_count": 5,
   "id": "4371d166",
   "metadata": {},
   "outputs": [
    {
     "name": "stdout",
     "output_type": "stream",
     "text": [
      "Final pH in the first extreme case (R = 0.2): 6.4\n",
      "Final pH in the second extreme case (R = 0.5): 5.5\n"
     ]
    }
   ],
   "source": [
    "# Given pH values of the Azufre and Caracarani rivers\n",
    "pH_Azufre = 4.0\n",
    "pH_Caracarani = 7.0\n",
    "\n",
    "# First extreme case: R = 0.2\n",
    "R_1 = 0.2\n",
    "pH_final_1 = (R_1 * pH_Azufre) + ((1 - R_1) * pH_Caracarani)\n",
    "\n",
    "# Second extreme case: R = 0.5\n",
    "R_2 = 0.5\n",
    "pH_final_2 = (R_2 * pH_Azufre) + ((1 - R_2) * pH_Caracarani)\n",
    "\n",
    "print(\"Final pH in the first extreme case (R = 0.2):\", pH_final_1)\n",
    "print(\"Final pH in the second extreme case (R = 0.5):\", pH_final_2)\n"
   ]
  },
  {
   "cell_type": "markdown",
   "id": "9f6a7ba0",
   "metadata": {},
   "source": [
    "# question 3\n"
   ]
  },
  {
   "cell_type": "markdown",
   "id": "356a2b12",
   "metadata": {},
   "source": [
    "To determine whether amorphous Al(OH)3 and Fe(OH)3 are oversaturated in the mixed water, we need to compare the saturation state (Q/Ksp) of each mineral. If Q/Ksp > 1, the mineral is oversaturated and precipitation can occur. Given the solubility constants and assuming [Al3+] = TOTAL and [Fe3+] = TOTALFe, we can calculate Q for each mineral using the ionic strength (I) of the mixed water:\n",
    "Q_Al = ([Al3+]^1 * [H+]^3) / ([H2O]^3) = (TOTAL * ([H+]^3)) / ([H2O]^3)\n",
    "Q_Fe = ([Fe3+]^1 * [H+]^3) / ([H2O]^3) = (TOTALFe * ([H+]^3)) / ([H2O]^3)\n",
    "where [H2O] is the activity of water, which is assumed to be 1.\n",
    "The saturation state (Q/Ksp) can be calculated as follows:\n",
    "Saturation_Al = Q_Al / Ksp_Al\n",
    "Saturation_Fe = Q_Fe / Ksp_Fe\n",
    "If Saturation_Al > 1, amorphous Al(OH)3 is oversaturated.\n",
    "If Saturation_Fe > 1, amorphous Fe(OH)3 is oversaturated."
   ]
  },
  {
   "cell_type": "code",
   "execution_count": 6,
   "id": "eb528311",
   "metadata": {},
   "outputs": [
    {
     "name": "stdout",
     "output_type": "stream",
     "text": [
      "Amorphous Al(OH)3 is oversaturated: False\n",
      "Amorphous Fe(OH)3 is oversaturated: False\n"
     ]
    }
   ],
   "source": [
    "import math\n",
    "\n",
    "# Given solubility constants\n",
    "log_Ksp_Al = 10.8\n",
    "log_Ksp_Fe = 4.89\n",
    "\n",
    "# Given total concentrations\n",
    "TOTAL = 1.0  # Assumed total concentration of Al3+\n",
    "TOTALFe = 1.0  # Assumed total concentration of Fe3+\n",
    "\n",
    "# Calculate Q for Al(OH)3\n",
    "Q_Al = (TOTAL * (10**(-pH)**3)) / 1\n",
    "\n",
    "# Calculate Q for Fe(OH)3\n",
    "Q_Fe = (TOTALFe * (10**(-pH)**3)) / 1\n",
    "\n",
    "# Calculate saturation states\n",
    "Saturation_Al = Q_Al / 10**log_Ksp_Al\n",
    "Saturation_Fe = Q_Fe / 10**log_Ksp_Fe\n",
    "\n",
    "# Check if minerals are oversaturated\n",
    "is_oversaturated_Al = Saturation_Al > 1\n",
    "is_oversaturated_Fe = Saturation_Fe > 1\n",
    "\n",
    "# Print the results\n",
    "print(\"Amorphous Al(OH)3 is oversaturated:\", is_oversaturated_Al)\n",
    "print(\"Amorphous Fe(OH)3 is oversaturated:\", is_oversaturated_Fe)\n"
   ]
  },
  {
   "cell_type": "code",
   "execution_count": null,
   "id": "e25ead1d",
   "metadata": {},
   "outputs": [],
   "source": []
  }
 ],
 "metadata": {
  "kernelspec": {
   "display_name": "Python 3 (ipykernel)",
   "language": "python",
   "name": "python3"
  },
  "language_info": {
   "codemirror_mode": {
    "name": "ipython",
    "version": 3
   },
   "file_extension": ".py",
   "mimetype": "text/x-python",
   "name": "python",
   "nbconvert_exporter": "python",
   "pygments_lexer": "ipython3",
   "version": "3.9.13"
  }
 },
 "nbformat": 4,
 "nbformat_minor": 5
}
