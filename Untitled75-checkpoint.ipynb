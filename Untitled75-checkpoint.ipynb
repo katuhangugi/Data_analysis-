{
 "cells": [
  {
   "cell_type": "code",
   "execution_count": 4,
   "id": "09c8988b",
   "metadata": {},
   "outputs": [],
   "source": [
    "import os\n",
    "\n",
    "from transformers import DistilBertTokenizer\n",
    "\n",
    "def read_data(C_Users_This_PC_Desktop_neg, C_Users_This_PC_Desktop_pos):\n",
    "    tokenizer = DistilBertTokenizer.from_pretrained('distilbert-base-uncased')\n",
    "    \n",
    "    train_texts = []\n",
    "    train_labels = []\n",
    "    \n",
    "    for path, label in [(C_Users_This_PC_Desktop_pos, 1), (C_Users_This_PC_Desktop_neg, 0)]:\n",
    "        with open(path, 'r', encoding='utf-8') as f:\n",
    "            for line in f:\n",
    "                tokens = line.strip().split()\n",
    "                text = ' '.join(tokens)\n",
    "                train_texts.append(text)\n",
    "                train_labels.append(label)\n",
    "    \n",
    "    test_texts = []\n",
    "    test_labels = []\n",
    "    \n",
    "    for path, label in [(C_Users_This_PC_Desktop_pos, 1), (C_Users_This_PC_Desktop_neg, 0)]:\n",
    "        with open(path, 'r', encoding='utf-8') as f:\n",
    "            for line in f:\n",
    "                tokens = line.strip().split()\n",
    "                text = ' '.join(tokens)\n",
    "                test_texts.append(text)\n",
    "                test_labels.append(label)\n",
    "    \n",
    "    train_encodings = tokenizer(train_texts, truncation=True, padding=True)\n",
    "    test_encodings = tokenizer(test_texts, truncation=True, padding=True)\n",
    "    \n",
    "    return train_encodings['input_ids'], train_labels, test_encodings['input_ids'], test_labels\n"
   ]
  },
  {
   "cell_type": "code",
   "execution_count": null,
   "id": "efdc04a7",
   "metadata": {},
   "outputs": [],
   "source": []
  },
  {
   "cell_type": "code",
   "execution_count": null,
   "id": "802a67bf",
   "metadata": {},
   "outputs": [],
   "source": []
  },
  {
   "cell_type": "code",
   "execution_count": null,
   "id": "3cf84900",
   "metadata": {},
   "outputs": [],
   "source": []
  },
  {
   "cell_type": "code",
   "execution_count": 5,
   "id": "3c369b3a",
   "metadata": {},
   "outputs": [
    {
     "name": "stdout",
     "output_type": "stream",
     "text": [
      "Not enough samples for train and test split.\n"
     ]
    }
   ],
   "source": [
    "def read_data(C_Users_This_PC_Desktop_txt_sentoken):\n",
    "    # Implementation to read data from file or any other source\n",
    "    # Replace this implementation with the appropriate code for your use case\n",
    "    train_texts = []\n",
    "    train_labels = []\n",
    "    # Read data from file_path and populate train_texts and train_labels\n",
    "    return train_texts, train_labels\n",
    "\n",
    "# Update the code with the appropriate file path or data source\n",
    "train_texts, train_labels = read_data('C:/Users/This_PC/Desktop/txt_sentoken')\n",
    "\n",
    "# Convert train_texts and train_labels to lists, if they are not already\n",
    "train_texts = list(train_texts)\n",
    "train_labels = list(train_labels)\n",
    "\n",
    "# Check if train_texts has enough samples for train and test split\n",
    "if len(train_texts) >= 99:\n",
    "    C_Users_This_PC_Desktop_txt_sentoken_train, C_Users_This_PC_Desktop_txt_sentoken_dev = train_test_split(\n",
    "        train_texts, train_labels, test_size=0.2, stratify=train_labels, random_state=42\n",
    "    )\n",
    "\n",
    "    dev_pos_texts = [text for text, label in zip(C_Users_This_PC_Desktop_txt_sentoken_train) if label == 1][:100]\n",
    "    dev_neg_texts = [text for text, label in zip(C_Users_This_PC_Desktop_txt_sentoken_train) if label == 0][:100]\n",
    "    dev_texts = dev_pos_texts + dev_neg_texts\n",
    "    dev_labels = [1] * 100 + [0] * 100\n",
    "else:\n",
    "    print(\"Not enough samples for train and test split.\")\n"
   ]
  },
  {
   "cell_type": "code",
   "execution_count": null,
   "id": "dd22db70",
   "metadata": {},
   "outputs": [],
   "source": []
  },
  {
   "cell_type": "code",
   "execution_count": null,
   "id": "d73a6395",
   "metadata": {},
   "outputs": [],
   "source": []
  },
  {
   "cell_type": "code",
   "execution_count": null,
   "id": "74ec7de0",
   "metadata": {},
   "outputs": [],
   "source": []
  },
  {
   "cell_type": "code",
   "execution_count": null,
   "id": "fba23134",
   "metadata": {},
   "outputs": [],
   "source": []
  },
  {
   "cell_type": "code",
   "execution_count": 6,
   "id": "1c95ffe7",
   "metadata": {},
   "outputs": [
    {
     "ename": "NameError",
     "evalue": "name 'tokenizer' is not defined",
     "output_type": "error",
     "traceback": [
      "\u001b[1;31m---------------------------------------------------------------------------\u001b[0m",
      "\u001b[1;31mNameError\u001b[0m                                 Traceback (most recent call last)",
      "\u001b[1;32m~\\AppData\\Local\\Temp\\ipykernel_9968\\3483833060.py\u001b[0m in \u001b[0;36m<module>\u001b[1;34m\u001b[0m\n\u001b[0;32m     15\u001b[0m \u001b[0mtest_texts\u001b[0m \u001b[1;33m=\u001b[0m \u001b[0mpos_texts\u001b[0m \u001b[1;33m+\u001b[0m \u001b[0mneg_texts\u001b[0m\u001b[1;33m\u001b[0m\u001b[1;33m\u001b[0m\u001b[0m\n\u001b[0;32m     16\u001b[0m \u001b[1;33m\u001b[0m\u001b[0m\n\u001b[1;32m---> 17\u001b[1;33m \u001b[0mtest_encodings\u001b[0m \u001b[1;33m=\u001b[0m \u001b[0mtokenizer\u001b[0m\u001b[1;33m(\u001b[0m\u001b[0mtest_texts\u001b[0m\u001b[1;33m,\u001b[0m \u001b[0mtruncation\u001b[0m\u001b[1;33m=\u001b[0m\u001b[1;32mTrue\u001b[0m\u001b[1;33m,\u001b[0m \u001b[0mpadding\u001b[0m\u001b[1;33m=\u001b[0m\u001b[1;32mTrue\u001b[0m\u001b[1;33m)\u001b[0m\u001b[1;33m\u001b[0m\u001b[1;33m\u001b[0m\u001b[0m\n\u001b[0m\u001b[0;32m     18\u001b[0m \u001b[1;33m\u001b[0m\u001b[0m\n\u001b[0;32m     19\u001b[0m \u001b[0mprint\u001b[0m\u001b[1;33m(\u001b[0m\u001b[1;34m\"Number of positive texts:\"\u001b[0m\u001b[1;33m,\u001b[0m \u001b[0mlen\u001b[0m\u001b[1;33m(\u001b[0m\u001b[0mpos_texts\u001b[0m\u001b[1;33m)\u001b[0m\u001b[1;33m)\u001b[0m\u001b[1;33m\u001b[0m\u001b[1;33m\u001b[0m\u001b[0m\n",
      "\u001b[1;31mNameError\u001b[0m: name 'tokenizer' is not defined"
     ]
    }
   ],
   "source": [
    "test_folder_path = 'C://Users/This PC/Desktop/txt_sentoken'\n",
    "pos_folder_path = os.path.join(test_folder_path, 'pos')\n",
    "neg_folder_path = os.path.join(test_folder_path, 'neg')\n",
    "\n",
    "pos_texts = []\n",
    "for filename in os.listdir(pos_folder_path):\n",
    "    with open(os.path.join(pos_folder_path, filename), 'r') as pos_file:\n",
    "        pos_texts.append(pos_file.read())\n",
    "\n",
    "neg_texts = []\n",
    "for filename in os.listdir(neg_folder_path):\n",
    "    with open(os.path.join(neg_folder_path, filename), 'r') as neg_file:\n",
    "        neg_texts.append(neg_file.read())\n",
    "\n",
    "test_texts = pos_texts + neg_texts\n",
    "\n",
    "test_encodings = tokenizer(test_texts, truncation=True, padding=True)\n",
    "\n",
    "print(\"Number of positive texts:\", len(pos_texts))\n",
    "print(\"Number of negative texts:\", len(neg_texts))\n",
    "print(\"Total number of texts:\", len(test_texts))\n",
    "print(\"Total number of encodings:\", len(test_encodings))\n"
   ]
  },
  {
   "cell_type": "code",
   "execution_count": 7,
   "id": "676cde3b",
   "metadata": {},
   "outputs": [
    {
     "ename": "NameError",
     "evalue": "name 'tokenizer' is not defined",
     "output_type": "error",
     "traceback": [
      "\u001b[1;31m---------------------------------------------------------------------------\u001b[0m",
      "\u001b[1;31mNameError\u001b[0m                                 Traceback (most recent call last)",
      "\u001b[1;32m~\\AppData\\Local\\Temp\\ipykernel_9968\\838692271.py\u001b[0m in \u001b[0;36m<module>\u001b[1;34m\u001b[0m\n\u001b[0;32m     23\u001b[0m \u001b[1;33m\u001b[0m\u001b[0m\n\u001b[0;32m     24\u001b[0m \u001b[1;31m# Tokenize test texts\u001b[0m\u001b[1;33m\u001b[0m\u001b[1;33m\u001b[0m\u001b[0m\n\u001b[1;32m---> 25\u001b[1;33m \u001b[0mtest_encodings\u001b[0m \u001b[1;33m=\u001b[0m \u001b[0mtokenizer\u001b[0m\u001b[1;33m(\u001b[0m\u001b[0mtest_texts\u001b[0m\u001b[1;33m,\u001b[0m \u001b[0mtruncation\u001b[0m\u001b[1;33m=\u001b[0m\u001b[1;32mTrue\u001b[0m\u001b[1;33m,\u001b[0m \u001b[0mpadding\u001b[0m\u001b[1;33m=\u001b[0m\u001b[1;32mTrue\u001b[0m\u001b[1;33m)\u001b[0m\u001b[1;33m\u001b[0m\u001b[1;33m\u001b[0m\u001b[0m\n\u001b[0m\u001b[0;32m     26\u001b[0m \u001b[1;33m\u001b[0m\u001b[0m\n\u001b[0;32m     27\u001b[0m \u001b[1;31m# Create PolarityDataset object for test dataset\u001b[0m\u001b[1;33m\u001b[0m\u001b[1;33m\u001b[0m\u001b[0m\n",
      "\u001b[1;31mNameError\u001b[0m: name 'tokenizer' is not defined"
     ]
    }
   ],
   "source": [
    "# Define labels for train, dev, and test datasets\n",
    "test_folder_path = 'C://Users/This PC/Desktop/txt_sentoken'\n",
    "pos_folder_path = os.path.join(test_folder_path, 'pos')\n",
    "neg_folder_path = os.path.join(test_folder_path, 'neg')\n",
    "\n",
    "# Load test texts from positive and negative folders\n",
    "test_pos_files = os.listdir(pos_folder_path)\n",
    "test_neg_files = os.listdir(neg_folder_path)\n",
    "\n",
    "test_pos_texts = []\n",
    "test_neg_texts = []\n",
    "\n",
    "for file in test_pos_files:\n",
    "    with open(os.path.join(pos_folder_path, file), 'r') as f:\n",
    "        test_pos_texts.append(f.read())\n",
    "\n",
    "for file in test_neg_files:\n",
    "    with open(os.path.join(neg_folder_path, file), 'r') as f:\n",
    "        test_neg_texts.append(f.read())\n",
    "\n",
    "# Combine positive and negative texts for test dataset\n",
    "test_texts = test_pos_texts + test_neg_texts\n",
    "\n",
    "# Tokenize test texts\n",
    "test_encodings = tokenizer(test_texts, truncation=True, padding=True)\n",
    "\n",
    "# Create PolarityDataset object for test dataset\n",
    "test_dataset = PolarityDataset(test_encodings, test_labels)\n"
   ]
  },
  {
   "cell_type": "code",
   "execution_count": null,
   "id": "68db6ced",
   "metadata": {},
   "outputs": [],
   "source": [
    "from torch.utils.data import Dataset\n",
    "\n",
    "class PolarityDataset(Dataset):\n",
    "    def __init__(self, encodings, labels):\n",
    "        self.encodings = encodings\n",
    "        self.labels = labels\n",
    "        \n",
    "    def __getitem__(self, idx):\n",
    "        item = {key: val[idx] for key, val in self.encodings.items()}\n",
    "        item['labels'] = self.labels[idx]\n",
    "        return item\n",
    "    \n",
    "    def __len__(self):\n",
    "        return len(self.labels)\n",
    "\n",
    "# Define labels for train, dev, and test datasets\n",
    "test_folder_path = 'C://Users/This PC/Desktop/txt_sentoken'\n",
    "pos_folder_path = os.path.join(test_folder_path, 'pos')\n",
    "neg_folder_path = os.path.join(test_folder_path, 'neg')\n",
    "\n",
    "# Create PolarityDataset objects for train and dev datasets\n",
    "train_dataset = PolarityDataset(train_encodings, train_labels)\n",
    "dev_dataset = PolarityDataset(dev_encodings, dev_labels)\n",
    "\n",
    "# Check if test_texts is not empty\n",
    "if test_texts:\n",
    "    # Create PolarityDataset object for test dataset\n",
    "    test_encodings = tokenizer(test_texts, truncation=True, padding=True)\n",
    "    test_dataset = PolarityDataset(test_encodings, test_labels)\n",
    "else:\n",
    "    print(\"test_texts is empty. Please provide valid test data.\")\n"
   ]
  },
  {
   "cell_type": "code",
   "execution_count": null,
   "id": "1e260649",
   "metadata": {},
   "outputs": [],
   "source": [
    "# Check for ellipses in train_dataset\n",
    "for i, batch in enumerate(train_dataset):\n",
    "    for key, value in batch.items():\n",
    "        if value is Ellipsis:\n",
    "            print(f\"Ellipsis found in train_dataset at index {i}, key {key}\")\n",
    "\n",
    "# Check for ellipses in dev_dataset\n",
    "for i, batch in enumerate(dev_dataset):\n",
    "    for key, value in batch.items():\n",
    "        if value is Ellipsis:\n",
    "            print(f\"Ellipsis found in dev_dataset at index {i}, key {key}\")\n",
    "\n",
    "# Check for ellipses in test_dataset\n",
    "for i, batch in enumerate(test_dataset):\n",
    "    for key, value in batch.items():\n",
    "        if value is Ellipsis:\n",
    "            print(f\"Ellipsis found in test_dataset at index {i}, key {key}\")\n"
   ]
  },
  {
   "cell_type": "code",
   "execution_count": null,
   "id": "e99f4afc",
   "metadata": {},
   "outputs": [],
   "source": []
  },
  {
   "cell_type": "code",
   "execution_count": 8,
   "id": "ee0c58bc",
   "metadata": {},
   "outputs": [
    {
     "ename": "NameError",
     "evalue": "name 'y_true' is not defined",
     "output_type": "error",
     "traceback": [
      "\u001b[1;31m---------------------------------------------------------------------------\u001b[0m",
      "\u001b[1;31mNameError\u001b[0m                                 Traceback (most recent call last)",
      "\u001b[1;32m~\\AppData\\Local\\Temp\\ipykernel_9968\\1038321735.py\u001b[0m in \u001b[0;36m<module>\u001b[1;34m\u001b[0m\n\u001b[0;32m     23\u001b[0m \u001b[1;33m\u001b[0m\u001b[0m\n\u001b[0;32m     24\u001b[0m \u001b[1;31m# Calculate performance metrics\u001b[0m\u001b[1;33m\u001b[0m\u001b[1;33m\u001b[0m\u001b[0m\n\u001b[1;32m---> 25\u001b[1;33m \u001b[0maccuracy\u001b[0m \u001b[1;33m=\u001b[0m \u001b[0maccuracy_score\u001b[0m\u001b[1;33m(\u001b[0m\u001b[0my_true\u001b[0m\u001b[1;33m,\u001b[0m \u001b[0my_pred\u001b[0m\u001b[1;33m)\u001b[0m\u001b[1;33m\u001b[0m\u001b[1;33m\u001b[0m\u001b[0m\n\u001b[0m\u001b[0;32m     26\u001b[0m \u001b[0mprecision\u001b[0m \u001b[1;33m=\u001b[0m \u001b[0mprecision_score\u001b[0m\u001b[1;33m(\u001b[0m\u001b[0my_true\u001b[0m\u001b[1;33m,\u001b[0m \u001b[0my_pred\u001b[0m\u001b[1;33m,\u001b[0m \u001b[0mpos_label\u001b[0m\u001b[1;33m=\u001b[0m\u001b[1;34m'pos'\u001b[0m\u001b[1;33m)\u001b[0m\u001b[1;33m\u001b[0m\u001b[1;33m\u001b[0m\u001b[0m\n\u001b[0;32m     27\u001b[0m \u001b[0mrecall\u001b[0m \u001b[1;33m=\u001b[0m \u001b[0mrecall_score\u001b[0m\u001b[1;33m(\u001b[0m\u001b[0my_true\u001b[0m\u001b[1;33m,\u001b[0m \u001b[0my_pred\u001b[0m\u001b[1;33m,\u001b[0m \u001b[0mpos_label\u001b[0m\u001b[1;33m=\u001b[0m\u001b[1;34m'pos'\u001b[0m\u001b[1;33m)\u001b[0m\u001b[1;33m\u001b[0m\u001b[1;33m\u001b[0m\u001b[0m\n",
      "\u001b[1;31mNameError\u001b[0m: name 'y_true' is not defined"
     ]
    }
   ],
   "source": [
    "from sklearn.metrics import accuracy_score, precision_score, recall_score, f1_score\n",
    "\n",
    "# Test the model on test dataset\n",
    "def collate_fn(batch):\n",
    "    input_ids = []\n",
    "    attention_mask = []\n",
    "    labels = []\n",
    "    for item in batch:\n",
    "        if 'input_ids' in item:\n",
    "            input_ids.append(torch.tensor(item['input_ids']))\n",
    "        if 'attention_mask' in item:\n",
    "            attention_mask.append(torch.tensor(item['attention_mask']))\n",
    "        if 'labels' in item:\n",
    "            labels.append(torch.tensor(item['labels']))\n",
    "    if len(input_ids) > 1:\n",
    "        input_ids = torch.stack(input_ids)\n",
    "    if len(attention_mask) > 1:\n",
    "        attention_mask = torch.stack(attention_mask)\n",
    "    if len(labels) > 1:\n",
    "        labels = torch.stack(labels)\n",
    "    return {'input_ids': input_ids, 'attention_mask': attention_mask, 'labels': labels}\n",
    "\n",
    "\n",
    "# Calculate performance metrics\n",
    "accuracy = accuracy_score(y_true, y_pred)\n",
    "precision = precision_score(y_true, y_pred, pos_label='pos')\n",
    "recall = recall_score(y_true, y_pred, pos_label='pos')\n",
    "f1 = f1_score(y_true, y_pred, pos_label='pos')\n",
    "\n",
    "print(f'Test Loss: {test_loss:.4f}, Test Accuracy: {test_acc:.4f}')\n",
    "print(f'Accuracy: {accuracy:.4f}, Precision: {precision:.4f}, Recall: {recall:.4f}, F1 Score: {f1:.4f}')"
   ]
  },
  {
   "cell_type": "code",
   "execution_count": null,
   "id": "8d57af3b",
   "metadata": {},
   "outputs": [],
   "source": []
  },
  {
   "cell_type": "code",
   "execution_count": null,
   "id": "c05e2d1a",
   "metadata": {},
   "outputs": [],
   "source": []
  }
 ],
 "metadata": {
  "kernelspec": {
   "display_name": "Python 3 (ipykernel)",
   "language": "python",
   "name": "python3"
  },
  "language_info": {
   "codemirror_mode": {
    "name": "ipython",
    "version": 3
   },
   "file_extension": ".py",
   "mimetype": "text/x-python",
   "name": "python",
   "nbconvert_exporter": "python",
   "pygments_lexer": "ipython3",
   "version": "3.9.13"
  }
 },
 "nbformat": 4,
 "nbformat_minor": 5
}
