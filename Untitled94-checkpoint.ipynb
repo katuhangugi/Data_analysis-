{
 "cells": [
  {
   "cell_type": "code",
   "execution_count": 27,
   "id": "ea16fbc3",
   "metadata": {},
   "outputs": [],
   "source": [
    "import pandas as pd\n",
    "import matplotlib.pyplot as plt\n",
    "from itertools import islice\n",
    "from google.cloud import storage"
   ]
  },
  {
   "cell_type": "code",
   "execution_count": 28,
   "id": "05576fc2",
   "metadata": {},
   "outputs": [],
   "source": [
    "# set up cos function for GCS\n",
    "from google.cloud import storage "
   ]
  },
  {
   "cell_type": "code",
   "execution_count": 29,
   "id": "c4ce289a",
   "metadata": {},
   "outputs": [],
   "source": [
    "# list all files in given COS directory\n",
    "def list_blobs(bucket_name, folder_name):\n",
    "    gcs_client = storage.client()\n",
    "    bucket= gcs_client.bucket(bucket_name)\n",
    "    blobs =list(bucket.list_blobs(prefix=folder_name))\n",
    "    \n",
    "    for blob in blobs:\n",
    "        print(blob.name + 't' +str(blob.size))"
   ]
  },
  {
   "cell_type": "code",
   "execution_count": 30,
   "id": "bb766eac",
   "metadata": {},
   "outputs": [],
   "source": [
    "# list all files in gven COS directory\n",
    "def list_blobs_pd( bucket_name, folder_name):\n",
    "    gcs_client = storage.client()\n",
    "    blobs = list(bucket.list_blobs(perfix=folder_name))\n",
    "    \n",
    "    blobs_name = []\n",
    "    blods_size = []\n",
    "    \n",
    "    for blob in blobs:\n",
    "        blob_name.append(blob.name)\n",
    "        blob_size.append(blob._size)\n",
    "        \n",
    "    blobs_df =pd.DataFrame(list(zip(blob_name, blob_size)), column=['Name', 'size'])\n",
    "    blobs_df =blobs_df.style.format({\"size\": \":,.of\"})\n",
    "    \n",
    "    return blobs_df\n"
   ]
  },
  {
   "cell_type": "code",
   "execution_count": 31,
   "id": "18b793f6",
   "metadata": {},
   "outputs": [],
   "source": [
    "# delete folder from COS bucket\n",
    "def delete_folder(bucket_name, folder_name):\n",
    "    gcs_client = storage.client()\n",
    "    bucket = gcs_client.bucket(bucket_name)\n",
    "    blobs = list(bucket.list_blobs(prefix=folder_name))\n",
    "    \n",
    "    for blob in blobs:\n",
    "        blob.delete()"
   ]
  },
  {
   "cell_type": "code",
   "execution_count": 32,
   "id": "65a3e69f",
   "metadata": {},
   "outputs": [],
   "source": [
    "# reading data from open bucket, avaible to all students \n",
    "bucket_read = 'msca-bdp-tweets'\n",
    "\n",
    "# saving results into individual bucket must updata to their own bucket 'msca-bdp-students-bucket' and use CNET ID' as a folder  perfix\n",
    "bucket_write = 'msca-bdp-tweets'"
   ]
  },
  {
   "cell_type": "code",
   "execution_count": 33,
   "id": "5cfd209f",
   "metadata": {},
   "outputs": [
    {
     "name": "stdout",
     "output_type": "stream",
     "text": [
      "Wall time: 141 ms\n"
     ]
    },
    {
     "name": "stderr",
     "output_type": "stream",
     "text": [
      "'hadoop' is not recognized as an internal or external command,\n",
      "operable program or batch file.\n"
     ]
    }
   ],
   "source": [
    "%%time\n",
    "!hadoop fs -ls \"gs://msca-bdp-tweets/final_project\""
   ]
  },
  {
   "cell_type": "code",
   "execution_count": 34,
   "id": "99c88330",
   "metadata": {},
   "outputs": [],
   "source": [
    "# Reading data from an open bucket available to all students\n",
    "bucket_read = 'msca-bdp-tweets'\n"
   ]
  },
  {
   "cell_type": "code",
   "execution_count": 35,
   "id": "87aebc2a",
   "metadata": {},
   "outputs": [],
   "source": [
    "# Saving results into individual bucket, update to your own bucket 'msca-bdp-students-bucket' and use CNET ID as a folder prefix\n",
    "bucket_write = 'msca-bdp-students-bucket'"
   ]
  },
  {
   "cell_type": "code",
   "execution_count": 3,
   "id": "7249454e",
   "metadata": {
    "scrolled": true
   },
   "outputs": [
    {
     "ename": "DefaultCredentialsError",
     "evalue": "Could not automatically determine credentials. Please set GOOGLE_APPLICATION_CREDENTIALS or explicitly create credentials and re-run the application. For more information, please see https://cloud.google.com/docs/authentication/getting-started",
     "output_type": "error",
     "traceback": [
      "\u001b[1;31m---------------------------------------------------------------------------\u001b[0m",
      "\u001b[1;31mDefaultCredentialsError\u001b[0m                   Traceback (most recent call last)",
      "\u001b[1;32m~\\AppData\\Local\\Temp\\ipykernel_19036\\758409378.py\u001b[0m in \u001b[0;36m<module>\u001b[1;34m\u001b[0m\n\u001b[0;32m     49\u001b[0m \u001b[1;33m\u001b[0m\u001b[0m\n\u001b[0;32m     50\u001b[0m \u001b[1;31m# Load the Twitter dataset from the specified COS bucket\u001b[0m\u001b[1;33m\u001b[0m\u001b[1;33m\u001b[0m\u001b[0m\n\u001b[1;32m---> 51\u001b[1;33m \u001b[0mgcs_client\u001b[0m \u001b[1;33m=\u001b[0m \u001b[0mstorage\u001b[0m\u001b[1;33m.\u001b[0m\u001b[0mClient\u001b[0m\u001b[1;33m(\u001b[0m\u001b[1;33m)\u001b[0m\u001b[1;33m\u001b[0m\u001b[1;33m\u001b[0m\u001b[0m\n\u001b[0m\u001b[0;32m     52\u001b[0m \u001b[0mbucket\u001b[0m \u001b[1;33m=\u001b[0m \u001b[0mgcs_client\u001b[0m\u001b[1;33m.\u001b[0m\u001b[0mbucket\u001b[0m\u001b[1;33m(\u001b[0m\u001b[0mbucket_write\u001b[0m\u001b[1;33m)\u001b[0m\u001b[1;33m\u001b[0m\u001b[1;33m\u001b[0m\u001b[0m\n\u001b[0;32m     53\u001b[0m \u001b[0mblob\u001b[0m \u001b[1;33m=\u001b[0m \u001b[0mbucket\u001b[0m\u001b[1;33m.\u001b[0m\u001b[0mblob\u001b[0m\u001b[1;33m(\u001b[0m\u001b[1;34m\"C:\\\\Users\\This PC\\Downloads\\37a6eb62-2c74-4860-bcf8-35f91455d3db (2)\"\u001b[0m\u001b[1;33m)\u001b[0m  \u001b[1;31m# Replace 'twitter_dataset.csv' with the actual file name\u001b[0m\u001b[1;33m\u001b[0m\u001b[1;33m\u001b[0m\u001b[0m\n",
      "\u001b[1;32m~\\anaconda3\\lib\\site-packages\\google\\cloud\\storage\\client.py\u001b[0m in \u001b[0;36m__init__\u001b[1;34m(self, project, credentials, _http, client_info, client_options, use_auth_w_custom_endpoint)\u001b[0m\n\u001b[0;32m    171\u001b[0m                     \u001b[0mproject\u001b[0m \u001b[1;33m=\u001b[0m \u001b[1;34m\"<none>\"\u001b[0m\u001b[1;33m\u001b[0m\u001b[1;33m\u001b[0m\u001b[0m\n\u001b[0;32m    172\u001b[0m \u001b[1;33m\u001b[0m\u001b[0m\n\u001b[1;32m--> 173\u001b[1;33m         super(Client, self).__init__(\n\u001b[0m\u001b[0;32m    174\u001b[0m             \u001b[0mproject\u001b[0m\u001b[1;33m=\u001b[0m\u001b[0mproject\u001b[0m\u001b[1;33m,\u001b[0m\u001b[1;33m\u001b[0m\u001b[1;33m\u001b[0m\u001b[0m\n\u001b[0;32m    175\u001b[0m             \u001b[0mcredentials\u001b[0m\u001b[1;33m=\u001b[0m\u001b[0mcredentials\u001b[0m\u001b[1;33m,\u001b[0m\u001b[1;33m\u001b[0m\u001b[1;33m\u001b[0m\u001b[0m\n",
      "\u001b[1;32m~\\anaconda3\\lib\\site-packages\\google\\cloud\\client\\__init__.py\u001b[0m in \u001b[0;36m__init__\u001b[1;34m(self, project, credentials, client_options, _http)\u001b[0m\n\u001b[0;32m    318\u001b[0m \u001b[1;33m\u001b[0m\u001b[0m\n\u001b[0;32m    319\u001b[0m     \u001b[1;32mdef\u001b[0m \u001b[0m__init__\u001b[0m\u001b[1;33m(\u001b[0m\u001b[0mself\u001b[0m\u001b[1;33m,\u001b[0m \u001b[0mproject\u001b[0m\u001b[1;33m=\u001b[0m\u001b[1;32mNone\u001b[0m\u001b[1;33m,\u001b[0m \u001b[0mcredentials\u001b[0m\u001b[1;33m=\u001b[0m\u001b[1;32mNone\u001b[0m\u001b[1;33m,\u001b[0m \u001b[0mclient_options\u001b[0m\u001b[1;33m=\u001b[0m\u001b[1;32mNone\u001b[0m\u001b[1;33m,\u001b[0m \u001b[0m_http\u001b[0m\u001b[1;33m=\u001b[0m\u001b[1;32mNone\u001b[0m\u001b[1;33m)\u001b[0m\u001b[1;33m:\u001b[0m\u001b[1;33m\u001b[0m\u001b[1;33m\u001b[0m\u001b[0m\n\u001b[1;32m--> 320\u001b[1;33m         \u001b[0m_ClientProjectMixin\u001b[0m\u001b[1;33m.\u001b[0m\u001b[0m__init__\u001b[0m\u001b[1;33m(\u001b[0m\u001b[0mself\u001b[0m\u001b[1;33m,\u001b[0m \u001b[0mproject\u001b[0m\u001b[1;33m=\u001b[0m\u001b[0mproject\u001b[0m\u001b[1;33m,\u001b[0m \u001b[0mcredentials\u001b[0m\u001b[1;33m=\u001b[0m\u001b[0mcredentials\u001b[0m\u001b[1;33m)\u001b[0m\u001b[1;33m\u001b[0m\u001b[1;33m\u001b[0m\u001b[0m\n\u001b[0m\u001b[0;32m    321\u001b[0m         Client.__init__(\n\u001b[0;32m    322\u001b[0m             \u001b[0mself\u001b[0m\u001b[1;33m,\u001b[0m \u001b[0mcredentials\u001b[0m\u001b[1;33m=\u001b[0m\u001b[0mcredentials\u001b[0m\u001b[1;33m,\u001b[0m \u001b[0mclient_options\u001b[0m\u001b[1;33m=\u001b[0m\u001b[0mclient_options\u001b[0m\u001b[1;33m,\u001b[0m \u001b[0m_http\u001b[0m\u001b[1;33m=\u001b[0m\u001b[0m_http\u001b[0m\u001b[1;33m\u001b[0m\u001b[1;33m\u001b[0m\u001b[0m\n",
      "\u001b[1;32m~\\anaconda3\\lib\\site-packages\\google\\cloud\\client\\__init__.py\u001b[0m in \u001b[0;36m__init__\u001b[1;34m(self, project, credentials)\u001b[0m\n\u001b[0;32m    266\u001b[0m \u001b[1;33m\u001b[0m\u001b[0m\n\u001b[0;32m    267\u001b[0m         \u001b[1;32mif\u001b[0m \u001b[0mproject\u001b[0m \u001b[1;32mis\u001b[0m \u001b[1;32mNone\u001b[0m\u001b[1;33m:\u001b[0m\u001b[1;33m\u001b[0m\u001b[1;33m\u001b[0m\u001b[0m\n\u001b[1;32m--> 268\u001b[1;33m             \u001b[0mproject\u001b[0m \u001b[1;33m=\u001b[0m \u001b[0mself\u001b[0m\u001b[1;33m.\u001b[0m\u001b[0m_determine_default\u001b[0m\u001b[1;33m(\u001b[0m\u001b[0mproject\u001b[0m\u001b[1;33m)\u001b[0m\u001b[1;33m\u001b[0m\u001b[1;33m\u001b[0m\u001b[0m\n\u001b[0m\u001b[0;32m    269\u001b[0m \u001b[1;33m\u001b[0m\u001b[0m\n\u001b[0;32m    270\u001b[0m         \u001b[1;32mif\u001b[0m \u001b[0mproject\u001b[0m \u001b[1;32mis\u001b[0m \u001b[1;32mNone\u001b[0m\u001b[1;33m:\u001b[0m\u001b[1;33m\u001b[0m\u001b[1;33m\u001b[0m\u001b[0m\n",
      "\u001b[1;32m~\\anaconda3\\lib\\site-packages\\google\\cloud\\client\\__init__.py\u001b[0m in \u001b[0;36m_determine_default\u001b[1;34m(project)\u001b[0m\n\u001b[0;32m    285\u001b[0m     \u001b[1;32mdef\u001b[0m \u001b[0m_determine_default\u001b[0m\u001b[1;33m(\u001b[0m\u001b[0mproject\u001b[0m\u001b[1;33m)\u001b[0m\u001b[1;33m:\u001b[0m\u001b[1;33m\u001b[0m\u001b[1;33m\u001b[0m\u001b[0m\n\u001b[0;32m    286\u001b[0m         \u001b[1;34m\"\"\"Helper:  use default project detection.\"\"\"\u001b[0m\u001b[1;33m\u001b[0m\u001b[1;33m\u001b[0m\u001b[0m\n\u001b[1;32m--> 287\u001b[1;33m         \u001b[1;32mreturn\u001b[0m \u001b[0m_determine_default_project\u001b[0m\u001b[1;33m(\u001b[0m\u001b[0mproject\u001b[0m\u001b[1;33m)\u001b[0m\u001b[1;33m\u001b[0m\u001b[1;33m\u001b[0m\u001b[0m\n\u001b[0m\u001b[0;32m    288\u001b[0m \u001b[1;33m\u001b[0m\u001b[0m\n\u001b[0;32m    289\u001b[0m \u001b[1;33m\u001b[0m\u001b[0m\n",
      "\u001b[1;32m~\\anaconda3\\lib\\site-packages\\google\\cloud\\_helpers\\__init__.py\u001b[0m in \u001b[0;36m_determine_default_project\u001b[1;34m(project)\u001b[0m\n\u001b[0;32m    150\u001b[0m     \"\"\"\n\u001b[0;32m    151\u001b[0m     \u001b[1;32mif\u001b[0m \u001b[0mproject\u001b[0m \u001b[1;32mis\u001b[0m \u001b[1;32mNone\u001b[0m\u001b[1;33m:\u001b[0m\u001b[1;33m\u001b[0m\u001b[1;33m\u001b[0m\u001b[0m\n\u001b[1;32m--> 152\u001b[1;33m         \u001b[0m_\u001b[0m\u001b[1;33m,\u001b[0m \u001b[0mproject\u001b[0m \u001b[1;33m=\u001b[0m \u001b[0mgoogle\u001b[0m\u001b[1;33m.\u001b[0m\u001b[0mauth\u001b[0m\u001b[1;33m.\u001b[0m\u001b[0mdefault\u001b[0m\u001b[1;33m(\u001b[0m\u001b[1;33m)\u001b[0m\u001b[1;33m\u001b[0m\u001b[1;33m\u001b[0m\u001b[0m\n\u001b[0m\u001b[0;32m    153\u001b[0m     \u001b[1;32mreturn\u001b[0m \u001b[0mproject\u001b[0m\u001b[1;33m\u001b[0m\u001b[1;33m\u001b[0m\u001b[0m\n\u001b[0;32m    154\u001b[0m \u001b[1;33m\u001b[0m\u001b[0m\n",
      "\u001b[1;32m~\\anaconda3\\lib\\site-packages\\google\\auth\\_default.py\u001b[0m in \u001b[0;36mdefault\u001b[1;34m(scopes, request, quota_project_id, default_scopes)\u001b[0m\n\u001b[0;32m    651\u001b[0m             \u001b[1;32mreturn\u001b[0m \u001b[0mcredentials\u001b[0m\u001b[1;33m,\u001b[0m \u001b[0meffective_project_id\u001b[0m\u001b[1;33m\u001b[0m\u001b[1;33m\u001b[0m\u001b[0m\n\u001b[0;32m    652\u001b[0m \u001b[1;33m\u001b[0m\u001b[0m\n\u001b[1;32m--> 653\u001b[1;33m     \u001b[1;32mraise\u001b[0m \u001b[0mexceptions\u001b[0m\u001b[1;33m.\u001b[0m\u001b[0mDefaultCredentialsError\u001b[0m\u001b[1;33m(\u001b[0m\u001b[0m_HELP_MESSAGE\u001b[0m\u001b[1;33m)\u001b[0m\u001b[1;33m\u001b[0m\u001b[1;33m\u001b[0m\u001b[0m\n\u001b[0m",
      "\u001b[1;31mDefaultCredentialsError\u001b[0m: Could not automatically determine credentials. Please set GOOGLE_APPLICATION_CREDENTIALS or explicitly create credentials and re-run the application. For more information, please see https://cloud.google.com/docs/authentication/getting-started"
     ]
    }
   ],
   "source": [
    "import time\n",
    "import pandas as pd\n",
    "import matplotlib.pyplot as plt\n",
    "from itertools import islice\n",
    "from google.cloud import storage\n",
    "\n",
    "# Set up GCS client\n",
    "def get_gcs_client():\n",
    "    return storage.Client()\n",
    "\n",
    "# List all files in a given COS directory\n",
    "def list_blobs(bucket_name, folder_name):\n",
    "    gcs_client = get_gcs_client()\n",
    "    bucket = gcs_client.bucket(bucket_name)\n",
    "    blobs = list(bucket.list_blobs(prefix=folder_name))\n",
    "    \n",
    "    for blob in blobs:\n",
    "        print(blob.name + '\\t' + str(blob.size))\n",
    "\n",
    "# List all files in a given COS directory and return a pandas DataFrame\n",
    "def list_blobs_pd(bucket_name, folder_name):\n",
    "    gcs_client = get_gcs_client()\n",
    "    bucket = gcs_client.bucket(bucket_name)\n",
    "    blobs = list(bucket.list_blobs(prefix=folder_name))\n",
    "    \n",
    "    blob_names = []\n",
    "    blob_sizes = []\n",
    "    \n",
    "    for blob in blobs:\n",
    "        blob_names.append(blob.name)\n",
    "        blob_sizes.append(blob.size)\n",
    "        \n",
    "    blobs_df = pd.DataFrame(list(zip(blob_names, blob_sizes)), columns=['Name', 'Size'])\n",
    "    blobs_df['Size'] = blobs_df['Size'].map(lambda x: f\"{x:,} bytes\")\n",
    "    \n",
    "    return blobs_df\n",
    "\n",
    "# Delete a folder from COS bucket\n",
    "def delete_folder(bucket_name, folder_name):\n",
    "    gcs_client = get_gcs_client()\n",
    "    bucket = gcs_client.bucket(bucket_name)\n",
    "    blobs = list(bucket.list_blobs(prefix=folder_name))\n",
    "    \n",
    "    for blob in blobs:\n",
    "        blob.delete()\n",
    "\n",
    "# Saving results into individual bucket, update to your own bucket 'msca-bdp-students-bucket' and use CNET ID as a folder prefix\n",
    "bucket_write = 'msca-bdp-students-bucket'\n",
    "\n",
    "# Load the Twitter dataset from the specified COS bucket\n",
    "gcs_client = storage.Client()\n",
    "bucket = gcs_client.bucket(bucket_write)\n",
    "blob = bucket.blob(\"C:\\\\Users\\This PC\\Downloads\\37a6eb62-2c74-4860-bcf8-35f91455d3db (2)\")  # Replace 'twitter_dataset.csv' with the actual file name\n",
    "data = pd.read_csv(blob.download_as_text())\n",
    "\n",
    "# Data cleaning and preprocessing\n",
    "# Remove columns with poor population or missing values\n",
    "data = data.dropna(subset=['relevant_column_1', 'relevant_column_2'])  # Update with relevant column names\n",
    "\n",
    "# Rest of the code for EDA and analysis...\n",
    "\n"
   ]
  },
  {
   "cell_type": "code",
   "execution_count": null,
   "id": "775cb49a",
   "metadata": {},
   "outputs": [],
   "source": []
  }
 ],
 "metadata": {
  "kernelspec": {
   "display_name": "Python 3 (ipykernel)",
   "language": "python",
   "name": "python3"
  },
  "language_info": {
   "codemirror_mode": {
    "name": "ipython",
    "version": 3
   },
   "file_extension": ".py",
   "mimetype": "text/x-python",
   "name": "python",
   "nbconvert_exporter": "python",
   "pygments_lexer": "ipython3",
   "version": "3.9.13"
  }
 },
 "nbformat": 4,
 "nbformat_minor": 5
}
