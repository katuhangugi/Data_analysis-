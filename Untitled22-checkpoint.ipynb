{
 "cells": [
  {
   "cell_type": "code",
   "execution_count": null,
   "id": "fc61d682",
   "metadata": {},
   "outputs": [
    {
     "name": "stdout",
     "output_type": "stream",
     "text": [
      "Enter the x coordinate: -14\n",
      "Enter the y coordinate: -50\n"
     ]
    }
   ],
   "source": [
    "\n",
    "import turtle\n",
    "\n",
    "# Create window\n",
    "window = turtle.Screen()\n",
    "window.bgcolor(\"black\")\n",
    "\n",
    "# Create first triangle\n",
    "triangle_1 = turtle.Turtle()\n",
    "triangle_1.shape(\"arrow\")\n",
    "triangle_1.speed(1)\n",
    "\n",
    "# Create second triangle\n",
    "triangle_2 = turtle.Turtle()\n",
    "triangle_2.shape(\"arrow\")\n",
    "triangle_2.speed(1)\n",
    "\n",
    "# Set the center point for both triangles\n",
    "x = 0\n",
    "y = 0\n",
    "\n",
    "# Define triangle 1\n",
    "triangle_1.penup()\n",
    "triangle_1.goto(x, y + 100)\n",
    "triangle_1.pendown()\n",
    "triangle_1.color(\"blue\")\n",
    "triangle_1.begin_fill()\n",
    "triangle_1.left(120)\n",
    "triangle_1.forward(200)\n",
    "triangle_1.right(120)\n",
    "triangle_1.forward(200)\n",
    "triangle_1.right(120)\n",
    "triangle_1.forward(200)\n",
    "triangle_1.end_fill()\n",
    "\n",
    "# Define triangle 2\n",
    "triangle_2.penup()\n",
    "triangle_2.goto(x, y - 100)\n",
    "triangle_2.pendown()\n",
    "triangle_2.color(\"red\")\n",
    "triangle_2.begin_fill()\n",
    "triangle_2.left(120)\n",
    "triangle_2.forward(200)\n",
    "triangle_2.right(120)\n",
    "triangle_2.forward(200)\n",
    "triangle_2.right(120)\n",
    "triangle_2.forward(200)\n",
    "triangle_2.end_fill()\n",
    "\n",
    "# Collect the input point\n",
    "input_x = int(input(\"Enter the x coordinate: \"))\n",
    "input_y = int(input(\"Enter the y coordinate: \"))\n",
    "\n",
    "# Move triangle 1 around the center point\n",
    "triangle_1.penup()\n",
    "triangle_1.goto(input_x, input_y)\n",
    "triangle_1.pendown()\n",
    "\n",
    "# Move triangle 2 around the center point\n",
    "triangle_2.penup()\n",
    "triangle_2.goto(input_x, input_y)\n",
    "triangle_2.pendown()\n",
    "\n",
    "# Rotate triangle 1\n",
    "for i in range(360):\n",
    "    triangle_1.right(1)\n",
    "    triangle_1.forward(1)\n",
    "\n",
    "# Rotate triangle 2\n",
    "for i in range(360):\n",
    "    triangle_2.right(1)\n",
    "    triangle_2.forward(1)\n",
    "\n",
    "# Close window\n",
    "window.exitonclick()"
   ]
  },
  {
   "cell_type": "code",
   "execution_count": null,
   "id": "c590ac07",
   "metadata": {},
   "outputs": [],
   "source": []
  }
 ],
 "metadata": {
  "kernelspec": {
   "display_name": "Python 3 (ipykernel)",
   "language": "python",
   "name": "python3"
  },
  "language_info": {
   "codemirror_mode": {
    "name": "ipython",
    "version": 3
   },
   "file_extension": ".py",
   "mimetype": "text/x-python",
   "name": "python",
   "nbconvert_exporter": "python",
   "pygments_lexer": "ipython3",
   "version": "3.9.13"
  }
 },
 "nbformat": 4,
 "nbformat_minor": 5
}
