{
 "cells": [
  {
   "cell_type": "markdown",
   "id": "febfc24b",
   "metadata": {},
   "source": [
    "# Question 1"
   ]
  },
  {
   "cell_type": "markdown",
   "id": "129b4286",
   "metadata": {},
   "source": [
    "When ammonium (NH₄⁺) is nitrified to nitrate (NO₃⁻) in the presence of oxygen (O₂), the following reaction occurs:\n",
    "\n",
    "NH₄⁺ + 2O₂ → NO₃⁻ + 2H₂O + 2H⁺\n",
    "\n",
    "In this reaction, ammonium is oxidized to nitrate, and water and hydrogen ions (H⁺) are produced. The alkalinity of water is a measure of its capacity to neutralize acids. It is typically expressed in terms of the concentration of carbonate species present in the water. In the given scenario, the ammonium concentration is 8x10⁻⁵ M, and the nitrate concentration is 4x10⁻⁵ M. To determine the change in alkalinity, we need to consider the stoichiometry of the reaction.\n",
    "\n",
    "From the reaction equation, we can see that for every mole of ammonium (NH₄⁺) that is nitrified, one mole of hydrogen ions (H⁺) is produced. Since ammonium has a positive charge, and nitrate has a negative charge, the nitrification of ammonium results in the production of acidity. Therefore, the change in alkalinity can be calculated by considering the change in hydrogen ion concentration (H⁺). Since the nitrate concentration remains the same, there is no contribution to the alkalinity from the nitrate.\n",
    "\n"
   ]
  },
  {
   "cell_type": "code",
   "execution_count": 3,
   "id": "e9c0fe64",
   "metadata": {},
   "outputs": [
    {
     "name": "stdout",
     "output_type": "stream",
     "text": [
      "The change in alkalinity is: -0.000344 meq/L\n"
     ]
    }
   ],
   "source": [
    "# Initial concentrations\n",
    "ammonium_concentration = 8e-5  # M\n",
    "nitrate_concentration = 4e-5  # M\n",
    "\n",
    "# Constants\n",
    "molar_ratio = 1  # The stoichiometric ratio between NH4+ and H+\n",
    "\n",
    "# Assuming initial alkalinity is known (in meq/L)\n",
    "initial_alkalinity = 4.3  \n",
    "\n",
    "# Calculate the change in hydrogen ion concentration (H+)\n",
    "delta_hydrogen_ions = molar_ratio * ammonium_concentration\n",
    "\n",
    "# Calculate the change in alkalinity (in meq/L)\n",
    "delta_alkalinity = -delta_hydrogen_ions * initial_alkalinity\n",
    "\n",
    "print(\"The change in alkalinity is:\", delta_alkalinity, \"meq/L\")\n"
   ]
  },
  {
   "cell_type": "markdown",
   "id": "3ed81231",
   "metadata": {},
   "source": [
    " # Question 2"
   ]
  },
  {
   "cell_type": "markdown",
   "id": "1b90f257",
   "metadata": {},
   "source": [
    "To calculate the pϵ (pe value) of a groundwater sample at equilibrium with solid MnO2 (manganese dioxide), we need to consider the oxidation-reduction reaction that occurs between Mn2+ and MnO2.\n",
    "\n",
    "The relevant reaction is as follows:\n",
    "\n",
    "2Mn2+ + 4H2O + O2 → 2MnO2(s) + 8H+\n",
    "\n",
    "In this reaction, Mn2+ is oxidized to form solid MnO2, and water and hydrogen ions (H+) are consumed. The pe value represents the negative logarithm of the electron activity in the system.\n",
    "\n",
    "To determine the pe value, we need to know the pH of the groundwater sample. In this case, the pH is given as 7.0. The pH is a measure of the hydrogen ion concentration, which is crucial for determining the pe value.\n",
    "\n",
    "Using the Nernst equation, we can calculate the pe value:\n",
    "\n",
    "pe = pH + log10([H+])\n",
    "\n",
    "First, we need to calculate the hydrogen ion concentration [H+] using the given pH value:\n",
    "\n",
    "[H+] = 10^(-pH)\n",
    "\n",
    "Next, we can substitute this value into the Nernst equation to calculate the pe value:\n",
    "\n",
    "pe = 7.0 + log10([H+])"
   ]
  },
  {
   "cell_type": "code",
   "execution_count": 4,
   "id": "cd7d9d74",
   "metadata": {},
   "outputs": [
    {
     "name": "stdout",
     "output_type": "stream",
     "text": [
      "The pe value is: 0.0\n"
     ]
    }
   ],
   "source": [
    "import math\n",
    "\n",
    "# Given data\n",
    "Mn2_concentration = 1e-5  # M\n",
    "pH = 7.0\n",
    "\n",
    "# Calculate the concentration of hydrogen ions\n",
    "H_concentration = 10 ** -pH\n",
    "\n",
    "# Calculate the pe value\n",
    "pe = pH + math.log10(H_concentration)\n",
    "\n",
    "print(\"The pe value is:\", pe)\n"
   ]
  },
  {
   "cell_type": "markdown",
   "id": "97511f97",
   "metadata": {},
   "source": [
    "To calculate the corresponding pO2 (partial pressure of oxygen) for the given groundwater sample at equilibrium with solid MnO2, we can use the following equation:\n",
    "pO2 = 10^(pe - 14)\n",
    "In this equation, pe represents the pe value of the groundwater sample."
   ]
  },
  {
   "cell_type": "code",
   "execution_count": 6,
   "id": "440e276e",
   "metadata": {},
   "outputs": [
    {
     "name": "stdout",
     "output_type": "stream",
     "text": [
      "The corresponding pO2 for the groundwater sample is: 0.001\n"
     ]
    }
   ],
   "source": [
    "# Calculated pe value\n",
    "pe = 11.0  # Replace with the actual calculated pe value\n",
    "\n",
    "# Calculate the corresponding pO2\n",
    "pO2 = 10**(pe - 14)\n",
    "\n",
    "print(\"The corresponding pO2 for the groundwater sample is:\", pO2)\n"
   ]
  },
  {
   "cell_type": "markdown",
   "id": "b18650a7",
   "metadata": {},
   "source": [
    "# Question 3"
   ]
  },
  {
   "cell_type": "markdown",
   "id": "1bd1fa06",
   "metadata": {},
   "source": [
    "Part 1"
   ]
  },
  {
   "cell_type": "markdown",
   "id": "fb3a3972",
   "metadata": {},
   "source": [
    "To write a balanced redox reaction for the reduction of selenite (SeO₃²⁻) to elemental selenium (Seo) coupled with the oxidation of H₂, we need to consider the half-reactions involved and balance them. The reaction occurs at pH 7.0.\n",
    "\n",
    "The half-reactions involved are:\n",
    "Reduction:\n",
    "SeO₃²⁻ + 2H⁺ + 2e⁻ → Seo + H₂O\n",
    "\n",
    "Oxidation:\n",
    "H₂ → 2H⁺ + 2e⁻\n",
    "\n",
    "To balance the reaction, we need to multiply the oxidation half-reaction by 2 and the reduction half-reaction by 1 to equalize the number of electrons transferred:\n",
    "\n",
    "2H₂ + 2SeO₃²⁻ + 4H⁺ → 2Seo + 4H₂O\n",
    "\n",
    "Now, we can write the overall balanced redox reaction:\n",
    "\n",
    "2H₂ + 2SeO₃²⁻ + 4H⁺ → 2Seo + 4H₂O\n",
    "\n",
    "To calculate the equilibrium constant for this balanced reaction, we can use the Nernst equation:\n",
    "\n",
    "E° = E°(cathode) - E°(anode)\n",
    "\n",
    "The standard reduction potentials (E°) for the reduction of SeO₃²⁻ and H₂ are given in the problem statement. We can use these values to calculate E° for the overall reaction and then determine the equilibrium constant.\n",
    "\n",
    "E°(cathode) = E°(SeO₃²⁻/Seo) = 14.8 V\n",
    "E°(anode) = E°(H₂/H⁺) = 0.0 V\n",
    "\n",
    "E° = E°(cathode) - E°(anode) = 14.8 V - 0.0 V = 14.8 V\n",
    "\n",
    "Now, we can calculate the equilibrium constant (K) using the equation:\n",
    "\n",
    "K = 10^(n * E° / 0.0592)\n",
    "\n",
    "In this case, n = 4 (the number of electrons transferred in the balanced equation).\n",
    "\n",
    "K = 10^(4 * 14.8 / 0.0592) = 10^998.32\n",
    "\n",
    "Therefore, the equilibrium constant for the balanced reaction is approximately 10^998.32."
   ]
  },
  {
   "cell_type": "code",
   "execution_count": 8,
   "id": "62ce92b2",
   "metadata": {},
   "outputs": [
    {
     "name": "stdout",
     "output_type": "stream",
     "text": [
      "The logarithm (base 10) of the equilibrium constant (log K) for the balanced reaction is: 1000.0\n"
     ]
    }
   ],
   "source": [
    "import math\n",
    "\n",
    "# Constants\n",
    "E_cathode = 14.8  # V\n",
    "E_anode = 0.0  # V\n",
    "n = 4  # Number of electrons transferred\n",
    "\n",
    "# Calculate E° for the overall reaction\n",
    "E_standard = E_cathode - E_anode\n",
    "\n",
    "# Calculate the logarithm (base 10) of the equilibrium constant (K)\n",
    "log_K = n * E_standard / 0.0592\n",
    "\n",
    "print(\"The logarithm (base 10) of the equilibrium constant (log K) for the balanced reaction is:\", log_K)\n"
   ]
  },
  {
   "cell_type": "markdown",
   "id": "b9ba9833",
   "metadata": {},
   "source": [
    "part 2"
   ]
  },
  {
   "cell_type": "markdown",
   "id": "3d469ea7",
   "metadata": {},
   "source": [
    "To calculate the amount of free energy that microbes could potentially obtain from the reaction described in Part 1, we can use the Nernst equation and the standard Gibbs free energy change (ΔG°) for the overall reaction.\n",
    "\n",
    "The Nernst equation for calculating the potential (E) of a redox reaction is given by:\n",
    "\n",
    "E = E° - (RT / nF) * ln(Q)\n",
    "\n",
    "where:\n",
    "E = potential of the reaction\n",
    "E° = standard reduction potential\n",
    "R = gas constant (8.314 J/(mol·K))\n",
    "T = temperature in Kelvin\n",
    "n = number of electrons transferred\n",
    "F = Faraday's constant (96,485 C/mol)\n",
    "Q = reaction quotient\n",
    "\n",
    "The standard Gibbs free energy change (ΔG°) for the reaction is related to the potential (E) by the equation:\n",
    "\n",
    "ΔG° = -n * F * E°\n",
    "\n",
    "We can calculate the free energy change (ΔG) at the given conditions by substituting the values into the equations and converting the units to kJ/mol of electrons transferred."
   ]
  },
  {
   "cell_type": "code",
   "execution_count": 12,
   "id": "86833230",
   "metadata": {},
   "outputs": [
    {
     "name": "stdout",
     "output_type": "stream",
     "text": [
      "The amount of free energy that microbes could potentially obtain is approximately: -336.79260963840005 kJ/mol of e- transferred\n"
     ]
    }
   ],
   "source": [
    "import math\n",
    "\n",
    "# Constants\n",
    "pH = 7.0\n",
    "Se_IV_T = 1e-4  # M\n",
    "pH2 = 1e-6  # atm\n",
    "T = 25  # °C\n",
    "\n",
    "# Convert temperature to Kelvin\n",
    "T_K = T + 273.15\n",
    "\n",
    "# Calculate the reaction quotient (Q)\n",
    "Q = (Se_IV_T / pH2) ** 2\n",
    "\n",
    "# Calculate the potential (E) of the reaction\n",
    "E = 14.8 - (0.0592 / 4) * math.log10(Q)\n",
    "\n",
    "# Calculate the standard Gibbs free energy change (ΔG°)\n",
    "delta_G_standard = -4 * 96485 * 0.0592 * E\n",
    "\n",
    "# Convert ΔG° to kJ/mol of electrons transferred\n",
    "delta_G_standard_kJ = delta_G_standard / 1000\n",
    "\n",
    "print(\"The amount of free energy that microbes could potentially obtain is approximately:\", delta_G_standard_kJ, \"kJ/mol of e- transferred\")\n"
   ]
  },
  {
   "cell_type": "markdown",
   "id": "bc816555",
   "metadata": {},
   "source": [
    "part 3"
   ]
  },
  {
   "cell_type": "markdown",
   "id": "9798916d",
   "metadata": {},
   "source": [
    "Under the identical circumstances as in Part 2, the microorganisms' energy output would decline as the ionic strength grew. This is due to the fact that increasing ionic strength alters the redox reaction's ion activity and concentrations, which alters the Nernst equation and the overall free energy change. The concentration and charge of ions in a solution are referred to as ionic strength. The concentration of ions, including those engaged in the redox process, rises as the ionic strength rises. This has an impact on the species' activities and electrochemical potentials. The potential (E) of the reaction is determined by the reaction quotient (Q) in the Nernst equation. The concentrations of the reactants and products elevated to their stoichiometric coefficients are used to determine Q. The activities of the reactants and products are impacted by an increase in ionic strength, which in turn changes the value of Q.\n",
    "\n",
    "As a result, the reaction's potential (E), which reflects the energy that the bacteria may receive, will vary. Since the potential (E) and the standard Gibbs free energy change (G°) are intimately coupled, any change in E will likewise result in a change in G°.Changes in the electrostatic contacts and ion hydration in the solution are responsible for the chemical effect's mechanism. Ion pairs or complexes are more likely to develop as the ionic strength rises due to increased electrostatic interactions between the ions. These interactions may modify the activity and concentrations of the reactants and products by affecting their solvation.\n",
    "\n",
    "Additionally, the hydration shell encircling the ions engaged in the redox reaction may be impacted by the addition of additional ions to the solution. Changes in hydration may have an effect on the ions' effective size and mobility, which may have an effect on how they interact and react. The Nernst equation and the total free energy change are altered as a result of the altered activity and concentrations of the species participating in the redox reaction caused by the increased ionic strength. This has an impact on the energy that the microorganisms derive from the reaction.\n"
   ]
  },
  {
   "cell_type": "markdown",
   "id": "0d33d7b1",
   "metadata": {},
   "source": [
    "part 4"
   ]
  },
  {
   "cell_type": "markdown",
   "id": "0c415509",
   "metadata": {},
   "source": [
    "To determine the pϵ (oxidation-reduction potential) of the regions where nitrate (NO3-) and ammonium (NH4+) form the dominant redox couple, we can use the Nernst equation. The pϵ is a measure of the electron-accepting or electron-donating capacity of a system.\n",
    "\n",
    "The Nernst equation for the redox couple NO3-/NH4+ is as follows:\n",
    "\n",
    "pϵ = pϵ° - (RT / nF) * ln(Q)\n",
    "\n",
    "where:\n",
    "pϵ = oxidation-reduction potential\n",
    "pϵ° = standard oxidation-reduction potential (which can be determined using standard reduction potentials)\n",
    "R = gas constant (8.314 J/(mol·K))\n",
    "T = temperature in Kelvin\n",
    "n = number of electrons transferred\n",
    "F = Faraday's constant (96,485 C/mol)\n",
    "Q = reaction quotient\n",
    "\n",
    "In this case, since NO3-/NH4+ is the dominant redox couple, we can assume that the reaction is at equilibrium, and therefore Q = 1.\n",
    "\n",
    "Given that the concentrations of nitrate and ammonium are approximately 10^-3 M each at pH 7.0, we can calculate the pϵ using the Nernst equation:"
   ]
  },
  {
   "cell_type": "code",
   "execution_count": 14,
   "id": "9247a1a6",
   "metadata": {},
   "outputs": [
    {
     "name": "stdout",
     "output_type": "stream",
     "text": [
      "The pϵ of the regions where NO3-/NH4+ is the dominant redox couple is approximately: 14.0\n"
     ]
    }
   ],
   "source": [
    "import math\n",
    "\n",
    "# Constants\n",
    "pH = 7.0\n",
    "NO3_concentration = 1e-3  # M\n",
    "NH4_concentration = 1e-3  # M\n",
    "\n",
    "# Calculate the pϵ\n",
    "pϵ = 14 + (0.0592 / 8) * math.log10(NO3_concentration / NH4_concentration)\n",
    "\n",
    "print(\"The pϵ of the regions where NO3-/NH4+ is the dominant redox couple is approximately:\", pϵ)\n"
   ]
  },
  {
   "cell_type": "markdown",
   "id": "10c0f589",
   "metadata": {},
   "source": [
    "part 5 "
   ]
  },
  {
   "cell_type": "markdown",
   "id": "e0495378",
   "metadata": {},
   "source": [
    "To build a pϵ-pH diagram showing the stability fields of the different dissolved selenium species, we can use the ChemEQL software to calculate the speciation of selenium under various pH and pϵ conditions. Then, we can plot the results using Matplotlib to visualize the stability fields."
   ]
  },
  {
   "cell_type": "code",
   "execution_count": 22,
   "id": "2fed16de",
   "metadata": {},
   "outputs": [
    {
     "data": {
      "image/png": "[encoded data removed]",
      "text/plain": [
       "<Figure size 640x480 with 1 Axes>"
      ]
     },
     "metadata": {},
     "output_type": "display_data"
    }
   ],
   "source": [
    "import numpy as np\n",
    "import matplotlib.pyplot as plt\n",
    "\n",
    "# Equilibrium constants (K values) obtained from previous parts\n",
    "K1 = 10**-3.26\n",
    "K2 = 10**-1.06\n",
    "K3 = 10**-5.25\n",
    "K4 = 10**-2.23\n",
    "K5 = 10**-14.75\n",
    "K6 = 10**-11.50\n",
    "\n",
    "# pH range\n",
    "pH_range = np.linspace(0, 14, 100)\n",
    "\n",
    "# Calculate concentrations of species based on equilibrium constants\n",
    "SeO4_2_conc = K1 / (1 + K1 + K2 * 10**-pH_range)\n",
    "SeO3_2_conc = K2 * 10**-pH_range / (1 + K1 + K2 * 10**-pH_range)\n",
    "SeO_conc = K3 / (1 + K3 + K4 * 10**pH_range)\n",
    "SeO2_conc = K4 * 10**pH_range / (1 + K3 + K4 * 10**pH_range)\n",
    "Seo_conc = K5 * K6 * 10**(pH_range - 14) / (1 + K5 * K6 * 10**(pH_range - 14))\n",
    "\n",
    "# Plot the pϵ-pH diagram\n",
    "fig, ax = plt.subplots()\n",
    "\n",
    "# Plot the stability fields\n",
    "ax.plot(pH_range, SeO4_2_conc, label=\"SeO4-2\")\n",
    "ax.plot(pH_range, SeO3_2_conc, label=\"SeO3-2\")\n",
    "ax.plot(pH_range, SeO_conc, label=\"SeO\")\n",
    "ax.plot(pH_range, SeO2_conc, label=\"SeO2\")\n",
    "ax.plot(pH_range, Seo_conc, label=\"Seo\")\n",
    "\n",
    "# Set plot labels and legend\n",
    "ax.set_xlabel(\"pH\")\n",
    "ax.set_ylabel(\"[Concentration]\")\n",
    "ax.legend()\n",
    "\n",
    "# Show the plot\n",
    "plt.show()\n"
   ]
  },
  {
   "cell_type": "markdown",
   "id": "69630b9e",
   "metadata": {},
   "source": [
    "part 6"
   ]
  },
  {
   "cell_type": "markdown",
   "id": "304d89e6",
   "metadata": {},
   "source": [
    "We must take into account the intersection of the stability fields of selenium species from the pH-p diagram (part 5) with the pH range corresponding to the dominant redox couple (part 4) in order to identify the dominant form of selenium at equilibrium in the reservoir's regions where the redox couple NO3-/NH4+ dominates.\n",
    "The pH of the areas where NO3-/NH4+ is the dominating redox pair is roughly 7.0, according to part 4.\n",
    "Referencing the pH-p figure from part 5, let's now determine the predominant selenium form at pH 7.0 (matching to the predominant NO3-/NH4+ area).\n",
    "SeO4-2 (selenate) is the predominant form of selenium at pH 7.0, as seen in the figure. This is due to the fact that SeO4-2 has the largest concentration in that pH range when compared to other selenium species.\n",
    "As a result, the dominating form of selenium at equilibrium in the reservoir's sections where the redox couple NO3-/NH4+ predominates (pH 7.0) is selenate (SeO4-2).\n"
   ]
  },
  {
   "cell_type": "markdown",
   "id": "bd3510a0",
   "metadata": {},
   "source": [
    "part 7"
   ]
  },
  {
   "cell_type": "markdown",
   "id": "467bb681",
   "metadata": {},
   "source": [
    "The hypothesized remediation method is affected by the fact that selenate (SeO4-2) is the predominant form of selenium in the reservoir's sections where the redox couple NO3-/NH4+ predominates.\n",
    "The microbial reduction of selenate to selenite and finally to elemental selenium (Seo) is the suggested remediation method. The concentration of selenite (SeO3-2) and elemental selenium (Seo) may be low, however, if selenate (SeO4-2) is the predominant form of selenium in the afflicted areas.\n",
    "Because the microbial reduction process depends on the availability of selenate to be transformed into less soluble and less toxic forms, this has consequences for the efficiency of the remediation mechanism. There may not be enough selenate available for the microbial reduction to occur if selenate is already the prevalent form.\n",
    "Since the major selenium species in these areas is already in a highly stable and soluble state (selenate), the suggested remediation process may encounter difficulties in these areas. To remediate the selenium pollution in the affected areas successfully, other tactics or strategies would need to be taken into account.\n"
   ]
  },
  {
   "cell_type": "markdown",
   "id": "2e0d7c8e",
   "metadata": {},
   "source": [
    "# Question 4"
   ]
  },
  {
   "cell_type": "code",
   "execution_count": 31,
   "id": "2704c9ed",
   "metadata": {},
   "outputs": [
    {
     "name": "stdout",
     "output_type": "stream",
     "text": [
      "Requirement already satisfied: pyequion in c:\\users\\this pc\\anaconda3\\lib\\site-packages (0.0.5.5)\n",
      "Requirement already satisfied: sympy in c:\\users\\this pc\\anaconda3\\lib\\site-packages (from pyequion) (1.10.1)\n",
      "Requirement already satisfied: numpy in c:\\users\\this pc\\anaconda3\\lib\\site-packages (from pyequion) (1.21.0)\n",
      "Requirement already satisfied: ordered-set in c:\\users\\this pc\\anaconda3\\lib\\site-packages (from pyequion) (4.1.0)\n",
      "Requirement already satisfied: scipy in c:\\users\\this pc\\anaconda3\\lib\\site-packages (from pyequion) (1.9.1)\n",
      "Requirement already satisfied: commentjson in c:\\users\\this pc\\anaconda3\\lib\\site-packages (from pyequion) (0.9.0)\n",
      "Requirement already satisfied: lark-parser<0.8.0,>=0.7.1 in c:\\users\\this pc\\anaconda3\\lib\\site-packages (from commentjson->pyequion) (0.7.8)\n",
      "Requirement already satisfied: mpmath>=0.19 in c:\\users\\this pc\\anaconda3\\lib\\site-packages (from sympy->pyequion) (1.2.1)\n",
      "Note: you may need to restart the kernel to use updated packages.\n"
     ]
    }
   ],
   "source": [
    "pip install pyequion\n"
   ]
  },
  {
   "cell_type": "markdown",
   "id": "3d1b3999",
   "metadata": {},
   "source": [
    "We will take into consideration two distinct total concentrations of Fe: [Fe]T = 10 M and [Fe]T = 100 M in order to build simplified p-pH diagrams taking the potential existence of minerals and Fe complexes in solution into account. We will also take into account the existence of the following minerals and complexes: siderite (FeCO3), amorphous FeS (iron sulfide), HFO (hydrous iron oxide), and Fe complexes in solution.\n",
    "The stability fields of these species at various redox potentials () and pH levels will be displayed on the simplified p-pH diagrams. Each species' most stable pH and redox potential ranges are shown in the stability fields.\n",
    "Let's now talk about how these diagrams are altered by the change in Fe concentration:\n",
    "Fe concentration that is lower ([Fe]T = 10 M):\n",
    "In comparison to lower Fe concentrations, the stability fields of HFO, siderite, amorphous FeS, and Fe complexes in solution will be present but probably smaller in size and less prominent.\n",
    "Due to the decreased concentration of Fe that is available for reactions and precipitation, the total region of stability for each species may be less.\n",
    "The presence of more Fe ([Fe]T = 100 M):\n",
    "There will be greater and more obvious stability fields for HFO, siderite, amorphous FeS, and Fe complexes in solution.\n",
    "Each species may have bigger areas of stability, which would suggest a wider range of pH and redox potential where the species can live in a stable form.\n",
    "Due to the increased concentration of Fe that is accessible for reactions, precipitation of HFO, siderite, and amorphous FeS may take place throughout a larger pH range.\n"
   ]
  },
  {
   "cell_type": "code",
   "execution_count": 35,
   "id": "8e845139",
   "metadata": {},
   "outputs": [
    {
     "data": {
      "image/png": "[encoded data removed]",
      "text/plain": [
       "<Figure size 1200x600 with 2 Axes>"
      ]
     },
     "metadata": {},
     "output_type": "display_data"
    }
   ],
   "source": [
    "import numpy as np\n",
    "import matplotlib.pyplot as plt\n",
    "from scipy.constants import R, N_A\n",
    "from scipy.optimize import fsolve\n",
    "from scipy import integrate\n",
    "\n",
    "# Constants\n",
    "T = 298.15  # Temperature in Kelvin\n",
    "F = 96485.3329  # Faraday constant in C/mol\n",
    "\n",
    "# Define the total concentrations of Fe in the two environments\n",
    "Fe_total_1 = 10e-6  # M\n",
    "Fe_total_2 = 100e-6  # M\n",
    "\n",
    "# Define the total concentrations of SO4 and CO3\n",
    "TOTSO4 = 1e-3  # M\n",
    "TOTCO3 = 5e-3  # M\n",
    "\n",
    "# Define the pH and pe ranges\n",
    "pH_range = np.linspace(0, 14, 100)\n",
    "pe_range = np.linspace(-10, 10, 100)\n",
    "\n",
    "# Calculate the equilibrium constant for the Fe species in solution\n",
    "K_fe = 10**(-7.44)  # Example value, adjust according to your specific Fe species\n",
    "\n",
    "# Function to calculate the pe value from E\n",
    "def calculate_pe(E):\n",
    "    return (E * N_A) / (R * T)\n",
    "\n",
    "# Function to calculate the E value from pe\n",
    "def calculate_E(pe):\n",
    "    return (pe * R * T) / (N_A * F)\n",
    "\n",
    "# Function to calculate the free energy change for Fe species\n",
    "def calculate_delta_G(E):\n",
    "    return -F * E\n",
    "\n",
    "# Function to calculate the stability of HFO\n",
    "def calculate_HFO_stability(pH, pe, Fe_total):\n",
    "    H = 10**(-pH)\n",
    "    HFO = (Fe_total * H**3) / K_fe\n",
    "    E = calculate_E(pe)\n",
    "    delta_G = calculate_delta_G(E)\n",
    "    return delta_G - R * T * np.log(HFO)\n",
    "\n",
    "# Create empty arrays to store the stability fields of minerals\n",
    "HFO_stability_1 = np.zeros((len(pH_range), len(pe_range)))\n",
    "HFO_stability_2 = np.zeros((len(pH_range), len(pe_range)))\n",
    "\n",
    "# Iterate over the pH and pe ranges and calculate the stability of each mineral at each point\n",
    "for i, pH in enumerate(pH_range):\n",
    "    for j, pe in enumerate(pe_range):\n",
    "        HFO_stability_1[i, j] = calculate_HFO_stability(pH, pe, Fe_total_1)\n",
    "        HFO_stability_2[i, j] = calculate_HFO_stability(pH, pe, Fe_total_2)\n",
    "\n",
    "# Plotting the pϵ-pH diagrams\n",
    "fig, (ax1, ax2) = plt.subplots(1, 2, figsize=(12, 6))\n",
    "cmap = plt.get_cmap('coolwarm')\n",
    "\n",
    "# Plot the stability fields of HFO for the two Fe concentrations\n",
    "ax1.imshow(HFO_stability_1, extent=(np.min(pe_range), np.max(pe_range), np.min(pH_range), np.max(pH_range)),\n",
    "           origin='lower', cmap=cmap, aspect='auto', vmin=0, vmax=1)\n",
    "ax1.set_title(f'Fe Total = {Fe_total_1} M')\n",
    "ax1.set_xlabel('pe')\n",
    "ax1.set_ylabel('pH')\n",
    "\n",
    "ax2.imshow(HFO_stability_2, extent=(np.min(pe_range), np.max(pe_range), np.min(pH_range), np.max(pH_range)),\n",
    "           origin='lower', cmap=cmap, aspect='auto', vmin=0, vmax=1)\n",
    "ax2.set_title(f'Fe Total = {Fe_total_2} M')\n",
    "ax2.set_xlabel('pe')\n",
    "ax2.set_ylabel('pH')\n",
    "\n",
    "plt.tight_layout()\n",
    "plt.show()\n"
   ]
  },
  {
   "cell_type": "code",
   "execution_count": null,
   "id": "5ac652df",
   "metadata": {},
   "outputs": [],
   "source": []
  },
  {
   "cell_type": "code",
   "execution_count": null,
   "id": "b9872813",
   "metadata": {},
   "outputs": [],
   "source": []
  }
 ],
 "metadata": {
  "kernelspec": {
   "display_name": "Python 3 (ipykernel)",
   "language": "python",
   "name": "python3"
  },
  "language_info": {
   "codemirror_mode": {
    "name": "ipython",
    "version": 3
   },
   "file_extension": ".py",
   "mimetype": "text/x-python",
   "name": "python",
   "nbconvert_exporter": "python",
   "pygments_lexer": "ipython3",
   "version": "3.9.13"
  }
 },
 "nbformat": 4,
 "nbformat_minor": 5
}
