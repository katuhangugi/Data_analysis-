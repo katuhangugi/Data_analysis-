{
 "cells": [
  {
   "cell_type": "code",
   "execution_count": 1,
   "id": "6cf96dfc",
   "metadata": {},
   "outputs": [
    {
     "name": "stdout",
     "output_type": "stream",
     "text": [
      "Requirement already satisfied: pandas in c:\\users\\this pc\\anaconda3\\lib\\site-packages (2.0.1)\n",
      "Requirement already satisfied: nltk in c:\\users\\this pc\\anaconda3\\lib\\site-packages (3.7)\n",
      "Requirement already satisfied: pytz>=2020.1 in c:\\users\\this pc\\anaconda3\\lib\\site-packages (from pandas) (2023.3)\n",
      "Requirement already satisfied: python-dateutil>=2.8.2 in c:\\users\\this pc\\anaconda3\\lib\\site-packages (from pandas) (2.8.2)\n",
      "Requirement already satisfied: tzdata>=2022.1 in c:\\users\\this pc\\anaconda3\\lib\\site-packages (from pandas) (2023.3)\n",
      "Requirement already satisfied: numpy>=1.20.3 in c:\\users\\this pc\\anaconda3\\lib\\site-packages (from pandas) (1.23.5)\n",
      "Requirement already satisfied: tqdm in c:\\users\\this pc\\anaconda3\\lib\\site-packages (from nltk) (4.64.1)\n",
      "Requirement already satisfied: click in c:\\users\\this pc\\anaconda3\\lib\\site-packages (from nltk) (8.0.4)\n",
      "Requirement already satisfied: joblib in c:\\users\\this pc\\anaconda3\\lib\\site-packages (from nltk) (1.1.0)\n",
      "Requirement already satisfied: regex>=2021.8.3 in c:\\users\\this pc\\anaconda3\\lib\\site-packages (from nltk) (2022.7.9)\n",
      "Requirement already satisfied: six>=1.5 in c:\\users\\this pc\\anaconda3\\lib\\site-packages (from python-dateutil>=2.8.2->pandas) (1.16.0)\n",
      "Requirement already satisfied: colorama in c:\\users\\this pc\\anaconda3\\lib\\site-packages (from click->nltk) (0.4.6)\n",
      "Note: you may need to restart the kernel to use updated packages.\n"
     ]
    },
    {
     "name": "stderr",
     "output_type": "stream",
     "text": [
      "WARNING: Ignoring invalid distribution -rotobuf (c:\\users\\this pc\\anaconda3\\lib\\site-packages)\n",
      "WARNING: Ignoring invalid distribution -rotobuf (c:\\users\\this pc\\anaconda3\\lib\\site-packages)\n",
      "WARNING: Ignoring invalid distribution -rotobuf (c:\\users\\this pc\\anaconda3\\lib\\site-packages)\n",
      "WARNING: Ignoring invalid distribution -rotobuf (c:\\users\\this pc\\anaconda3\\lib\\site-packages)\n",
      "WARNING: Ignoring invalid distribution -rotobuf (c:\\users\\this pc\\anaconda3\\lib\\site-packages)\n",
      "WARNING: Ignoring invalid distribution -rotobuf (c:\\users\\this pc\\anaconda3\\lib\\site-packages)\n"
     ]
    }
   ],
   "source": [
    "pip install pandas nltk"
   ]
  },
  {
   "cell_type": "code",
   "execution_count": 2,
   "id": "df425262",
   "metadata": {},
   "outputs": [
    {
     "name": "stdout",
     "output_type": "stream",
     "text": [
      "Collecting textblob\n",
      "  Using cached textblob-0.17.1-py2.py3-none-any.whl (636 kB)\n",
      "Requirement already satisfied: nltk>=3.1 in c:\\users\\this pc\\anaconda3\\lib\\site-packages (from textblob) (3.7)\n",
      "Requirement already satisfied: click in c:\\users\\this pc\\anaconda3\\lib\\site-packages (from nltk>=3.1->textblob) (8.0.4)\n",
      "Requirement already satisfied: tqdm in c:\\users\\this pc\\anaconda3\\lib\\site-packages (from nltk>=3.1->textblob) (4.64.1)\n",
      "Requirement already satisfied: joblib in c:\\users\\this pc\\anaconda3\\lib\\site-packages (from nltk>=3.1->textblob) (1.1.0)\n",
      "Requirement already satisfied: regex>=2021.8.3 in c:\\users\\this pc\\anaconda3\\lib\\site-packages (from nltk>=3.1->textblob) (2022.7.9)\n",
      "Requirement already satisfied: colorama in c:\\users\\this pc\\anaconda3\\lib\\site-packages (from click->nltk>=3.1->textblob) (0.4.6)\n",
      "Installing collected packages: textblob\n",
      "Successfully installed textblob-0.17.1\n",
      "Note: you may need to restart the kernel to use updated packages.\n"
     ]
    },
    {
     "name": "stderr",
     "output_type": "stream",
     "text": [
      "WARNING: Ignoring invalid distribution -rotobuf (c:\\users\\this pc\\anaconda3\\lib\\site-packages)\n",
      "WARNING: Ignoring invalid distribution -rotobuf (c:\\users\\this pc\\anaconda3\\lib\\site-packages)\n",
      "WARNING: Ignoring invalid distribution -rotobuf (c:\\users\\this pc\\anaconda3\\lib\\site-packages)\n",
      "WARNING: Ignoring invalid distribution -rotobuf (c:\\users\\this pc\\anaconda3\\lib\\site-packages)\n",
      "WARNING: Ignoring invalid distribution -rotobuf (c:\\users\\this pc\\anaconda3\\lib\\site-packages)\n",
      "WARNING: Ignoring invalid distribution -rotobuf (c:\\users\\this pc\\anaconda3\\lib\\site-packages)\n",
      "WARNING: Ignoring invalid distribution -rotobuf (c:\\users\\this pc\\anaconda3\\lib\\site-packages)\n"
     ]
    }
   ],
   "source": [
    "pip install textblob"
   ]
  },
  {
   "cell_type": "code",
   "execution_count": 1,
   "id": "86ad5535",
   "metadata": {},
   "outputs": [],
   "source": [
    "import os\n",
    "import pandas as pd\n",
    "from textblob import TextBlob\n",
    "import re\n",
    "\n",
    "# Function to extract stock code and year from the filename\n",
    "def extract_stock_code_and_year(filename):\n",
    "    stock_code, year = None, None\n",
    "    match = re.search(r'\\b[A-Z]+\\b', filename)  # Assuming stock codes are in uppercase letters\n",
    "    if match:\n",
    "        stock_code = match.group()\n",
    "    match = re.search(r'\\b\\d{4}\\b', filename)  # Assuming year is a 4-digit number\n",
    "    if match:\n",
    "        year = int(match.group())\n",
    "    return stock_code, year\n",
    "\n",
    "# Function to clean up the data\n",
    "def clean_text(text):\n",
    "    # Remove random codes\n",
    "    cleaned_text = re.sub(r'\\b[A-Z]+\\b', '', text)\n",
    "    # Remove accounting subjects and amounts (assuming they are numeric)\n",
    "    cleaned_text = re.sub(r'\\b\\d+(?:\\.\\d+)?\\b', '', cleaned_text)\n",
    "    return cleaned_text.strip()\n",
    "\n",
    "# Function to preprocess the text using TextBlob\n",
    "def preprocess_text(text):\n",
    "    blob = TextBlob(text)\n",
    "    # Extract keywords from the text\n",
    "    keywords = blob.noun_phrases\n",
    "    # Perform any other preprocessing steps if needed\n",
    "    preprocessed_text = \" \".join(keywords)\n",
    "    return preprocessed_text\n",
    "\n",
    "# Main function to process the dataset\n",
    "def process_dataset(file_path):\n",
    "    # Extract the stock code and year from the filename\n",
    "    stock_code, year = extract_stock_code_and_year(file_path)\n",
    "    \n",
    "    # Read the content of the file\n",
    "    with open(file_path, 'r', encoding='utf-8') as file:\n",
    "        text = file.read()\n",
    "    \n",
    "    # Clean up the data\n",
    "    cleaned_text = clean_text(text)\n",
    "    \n",
    "    # Preprocess the text\n",
    "    preprocessed_text = preprocess_text(cleaned_text)\n",
    "    \n",
    "    # Create a DataFrame\n",
    "    data = {\n",
    "        'Stock Code': [stock_code],\n",
    "        'Year': [year],\n",
    "        'Preprocessed Text': [preprocessed_text]\n",
    "    }\n",
    "    df = pd.DataFrame(data)\n",
    "    return df\n",
    "\n",
    "# File paths for the datasets\n",
    "file_paths = [\n",
    "    r\"C:\\Users\\This PC\\Downloads\\science and technology.txt\",\n",
    "    r\"C:\\Users\\This PC\\Downloads\\Oak Technology.txt\"\n",
    "]\n",
    "\n",
    "# Process each dataset and store the results in Excel and CSV formats\n",
    "for file_path in file_paths:\n",
    "    df = process_dataset(file_path)\n",
    "    \n",
    "    # Extract filename without extension to use as a base for output files\n",
    "    filename_without_extension = os.path.splitext(os.path.basename(file_path))[0]\n",
    "    \n",
    "    # Save to Excel format\n",
    "    output_excel_path = f\"{filename_without_extension}.xlsx\"\n",
    "    df.to_excel(output_excel_path, index=False)\n",
    "    \n",
    "    # Save to CSV format\n",
    "    output_csv_path = f\"{filename_without_extension}.csv\"\n",
    "    df.to_csv(output_csv_path, index=False)\n"
   ]
  },
  {
   "cell_type": "code",
   "execution_count": 4,
   "id": "78fa9375",
   "metadata": {},
   "outputs": [
    {
     "name": "stderr",
     "output_type": "stream",
     "text": [
      "[nltk_data] Downloading package stopwords to C:\\Users\\This\n",
      "[nltk_data]     PC\\AppData\\Roaming\\nltk_data...\n",
      "[nltk_data]   Unzipping corpora\\stopwords.zip.\n"
     ]
    },
    {
     "data": {
      "text/plain": [
       "True"
      ]
     },
     "execution_count": 4,
     "metadata": {},
     "output_type": "execute_result"
    }
   ],
   "source": [
    "import nltk\n",
    "nltk.download('stopwords')\n"
   ]
  },
  {
   "cell_type": "code",
   "execution_count": 5,
   "id": "496df0fb",
   "metadata": {},
   "outputs": [
    {
     "name": "stderr",
     "output_type": "stream",
     "text": [
      "[nltk_data] Downloading package stopwords to C:\\Users\\This\n",
      "[nltk_data]     PC\\AppData\\Roaming\\nltk_data...\n",
      "[nltk_data]   Package stopwords is already up-to-date!\n"
     ]
    }
   ],
   "source": [
    "import re\n",
    "import pandas as pd\n",
    "import nltk\n",
    "from nltk.corpus import stopwords\n",
    "from nltk.tokenize import word_tokenize\n",
    "\n",
    "# Download the stopwords resource (Run this once)\n",
    "nltk.download('stopwords')\n",
    "\n",
    "# Function to preprocess the text data\n",
    "def preprocess_text(text):\n",
    "    # Remove random codes and accounting subjects and amounts\n",
    "    cleaned_text = re.sub(r\"\\b[A-Z0-9]{4,}\\b\", \"\", text)\n",
    "    cleaned_text = re.sub(r\"\\b\\d+\\b\", \"\", cleaned_text)\n",
    "\n",
    "    # Convert to lowercase and tokenize\n",
    "    tokens = word_tokenize(cleaned_text.lower())\n",
    "\n",
    "    # Remove stopwords\n",
    "    stop_words = set(stopwords.words(\"english\"))\n",
    "    filtered_tokens = [word for word in tokens if word not in stop_words]\n",
    "\n",
    "    return \" \".join(filtered_tokens)\n",
    "\n",
    "# Function to process a given file and generate DataFrame\n",
    "def process_file(file_path):\n",
    "    with open(file_path, \"r\", encoding=\"utf-8\") as file:\n",
    "        text = file.read()\n",
    "\n",
    "    # Extract stock code and year from the file name\n",
    "    stock_code_match = re.search(r\"\\\\([A-Za-z0-9]+)\\.txt\", file_path)\n",
    "    stock_code = stock_code_match.group(1) if stock_code_match else \"Unknown\"\n",
    "\n",
    "    year_match = re.search(r\"\\d{4}\", file_path)\n",
    "    year = year_match.group() if year_match else \"Unknown\"\n",
    "\n",
    "    # Preprocess the text\n",
    "    preprocessed_text = preprocess_text(text)\n",
    "\n",
    "    return {\"Stock Code\": stock_code, \"Year\": year, \"Preprocessed Text\": preprocessed_text}\n",
    "\n",
    "# File paths\n",
    "file_paths = [\"C:\\\\Users\\\\This PC\\\\Downloads\\\\science and technology.txt\",\n",
    "              \"C:\\\\Users\\\\This PC\\\\Downloads\\\\Oak Technology.txt\"]\n",
    "\n",
    "# Process files and create a list of dictionaries\n",
    "data = [process_file(file_path) for file_path in file_paths]\n",
    "\n",
    "# Create DataFrame\n",
    "df = pd.DataFrame(data)\n",
    "\n",
    "# Save DataFrame to Excel and CSV formats\n",
    "df.to_excel(\"preprocessed_data.xlsx\", index=False)\n",
    "df.to_csv(\"preprocessed_data.csv\", index=False)\n"
   ]
  },
  {
   "cell_type": "code",
   "execution_count": null,
   "id": "73a44f72",
   "metadata": {},
   "outputs": [],
   "source": []
  }
 ],
 "metadata": {
  "kernelspec": {
   "display_name": "Python 3 (ipykernel)",
   "language": "python",
   "name": "python3"
  },
  "language_info": {
   "codemirror_mode": {
    "name": "ipython",
    "version": 3
   },
   "file_extension": ".py",
   "mimetype": "text/x-python",
   "name": "python",
   "nbconvert_exporter": "python",
   "pygments_lexer": "ipython3",
   "version": "3.9.13"
  }
 },
 "nbformat": 4,
 "nbformat_minor": 5
}
