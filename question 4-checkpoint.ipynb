{
 "cells": [
  {
   "cell_type": "code",
   "execution_count": 3,
   "id": "cc88972b",
   "metadata": {},
   "outputs": [
    {
     "name": "stdout",
     "output_type": "stream",
     "text": [
      "                      query   \n",
      "0  Sydney Royal Easter Show  \\\n",
      "1  Sydney Royal Easter Show   \n",
      "2  Sydney Royal Easter Show   \n",
      "3  Sydney Royal Easter Show   \n",
      "4  Sydney Royal Easter Show   \n",
      "\n",
      "                                                link   \n",
      "0  https://www.tripadvisor.com/ShowUserReviews-g3...  \\\n",
      "1  https://www.tripadvisor.com/ShowUserReviews-g3...   \n",
      "2  https://www.tripadvisor.com/ShowUserReviews-g3...   \n",
      "3  https://www.tripadvisor.com/ShowUserReviews-g3...   \n",
      "4  https://www.tripadvisor.com/ShowUserReviews-g3...   \n",
      "\n",
      "                                        review_title   \n",
      "0                                    So many choices  \\\n",
      "1  Go to Olympic Park only if you want to photogr...   \n",
      "2  Great or special events but fairly ordinary ot...   \n",
      "3                                           Concerts   \n",
      "4                                  wide open spaces!   \n",
      "\n",
      "                                      review_content  rating    review_time   \n",
      "0  I've always liked the Olympic Park venue after...       5  22 March 2013  \\\n",
      "1  The train is a great way to get to Olympic Par...       1  22 March 2013   \n",
      "2  If you're visiting Olympic park or a concert o...       3  15 March 2013   \n",
      "3  Have attended many concerts here and all have ...       5  13 March 2013   \n",
      "4  Love walking around this place - so much space...       4  12 March 2013   \n",
      "\n",
      "  review_author  \n",
      "0      Nathan M  \n",
      "1      Angela C  \n",
      "2     LeeseyPow  \n",
      "3       RodnJen  \n",
      "4    maddie1964  \n"
     ]
    }
   ],
   "source": [
    "import pandas as pd\n",
    "\n",
    "# Load the dataset\n",
    "dataset_path = r'C:\\Users\\This PC\\Downloads\\MKTG6018_final_assessment\\question_4.xlsx'\n",
    "df = pd.read_excel(dataset_path)\n",
    "\n",
    "# Display the first few rows of the dataset\n",
    "print(df.head())\n"
   ]
  },
  {
   "cell_type": "code",
   "execution_count": 6,
   "id": "642a57c3",
   "metadata": {},
   "outputs": [
    {
     "name": "stdout",
     "output_type": "stream",
     "text": [
      "<class 'pandas.core.frame.DataFrame'>\n",
      "RangeIndex: 100 entries, 0 to 99\n",
      "Data columns (total 7 columns):\n",
      " #   Column          Non-Null Count  Dtype \n",
      "---  ------          --------------  ----- \n",
      " 0   query           100 non-null    object\n",
      " 1   link            100 non-null    object\n",
      " 2   review_title    100 non-null    object\n",
      " 3   review_content  100 non-null    object\n",
      " 4   rating          100 non-null    int64 \n",
      " 5   review_time     100 non-null    object\n",
      " 6   review_author   100 non-null    object\n",
      "dtypes: int64(1), object(6)\n",
      "memory usage: 5.6+ KB\n",
      "None\n",
      "count    100.000000\n",
      "mean       3.780000\n",
      "std        1.115366\n",
      "min        1.000000\n",
      "25%        3.000000\n",
      "50%        4.000000\n",
      "75%        5.000000\n",
      "max        5.000000\n",
      "Name: rating, dtype: float64\n",
      "Average Rating: 3.78\n"
     ]
    }
   ],
   "source": [
    "# Check the data types and general information\n",
    "print(df.info())\n",
    "\n",
    "# Check basic statistical summary of ratings\n",
    "print(df['rating'].describe())\n",
    "\n",
    "# Calculate the average rating\n",
    "average_rating = df['rating'].mean()\n",
    "print(\"Average Rating:\", average_rating)\n"
   ]
  },
  {
   "cell_type": "code",
   "execution_count": 7,
   "id": "f7177620",
   "metadata": {},
   "outputs": [
    {
     "name": "stderr",
     "output_type": "stream",
     "text": [
      "[nltk_data] Downloading package vader_lexicon to C:\\Users\\This\n",
      "[nltk_data]     PC\\AppData\\Roaming\\nltk_data...\n",
      "[nltk_data]   Package vader_lexicon is already up-to-date!\n"
     ]
    },
    {
     "name": "stdout",
     "output_type": "stream",
     "text": [
      "Average Title Sentiment: 0.19969600000000004\n",
      "Average Content Sentiment: 0.56758\n"
     ]
    }
   ],
   "source": [
    "import nltk\n",
    "from nltk.sentiment import SentimentIntensityAnalyzer\n",
    "\n",
    "# Download the required NLTK resources\n",
    "nltk.download('vader_lexicon')\n",
    "\n",
    "# Create an instance of the SentimentIntensityAnalyzer\n",
    "sia = SentimentIntensityAnalyzer()\n",
    "\n",
    "# Define a function to extract sentiment scores from text\n",
    "def get_sentiment_score(text):\n",
    "    sentiment = sia.polarity_scores(text)\n",
    "    return sentiment['compound']\n",
    "\n",
    "# Apply the sentiment analysis function to review titles and contents\n",
    "df['title_sentiment'] = df['review_title'].apply(get_sentiment_score)\n",
    "df['content_sentiment'] = df['review_content'].apply(get_sentiment_score)\n",
    "\n",
    "# Analyze the sentiments of the reviews\n",
    "average_title_sentiment = df['title_sentiment'].mean()\n",
    "average_content_sentiment = df['content_sentiment'].mean()\n",
    "print(\"Average Title Sentiment:\", average_title_sentiment)\n",
    "print(\"Average Content Sentiment:\", average_content_sentiment)\n"
   ]
  },
  {
   "cell_type": "code",
   "execution_count": null,
   "id": "3c96294e",
   "metadata": {},
   "outputs": [],
   "source": []
  }
 ],
 "metadata": {
  "kernelspec": {
   "display_name": "Python 3 (ipykernel)",
   "language": "python",
   "name": "python3"
  },
  "language_info": {
   "codemirror_mode": {
    "name": "ipython",
    "version": 3
   },
   "file_extension": ".py",
   "mimetype": "text/x-python",
   "name": "python",
   "nbconvert_exporter": "python",
   "pygments_lexer": "ipython3",
   "version": "3.9.13"
  }
 },
 "nbformat": 4,
 "nbformat_minor": 5
}
